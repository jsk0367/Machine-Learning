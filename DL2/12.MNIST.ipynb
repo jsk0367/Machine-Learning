{
 "cells": [
  {
   "cell_type": "markdown",
   "id": "082c2440-532b-4459-a1f2-af3f436136f2",
   "metadata": {},
   "source": [
    "## 다중분류\n",
    "\n",
    "- 원핫인코딩으로 "
   ]
  },
  {
   "cell_type": "code",
   "execution_count": 15,
   "id": "f4b53dbd-1b56-48c5-a4c7-36706696969a",
   "metadata": {},
   "outputs": [],
   "source": [
    "from tensorflow.keras.models import Sequential\n",
    "from tensorflow.keras.layers import Dense\n",
    "from tensorflow.keras.datasets import mnist\n",
    "from tensorflow.keras import utils\n",
    "import numpy as np\n",
    "import sys\n",
    "import tensorflow as tf"
   ]
  },
  {
   "cell_type": "code",
   "execution_count": 16,
   "id": "da2dac92-08ca-4417-b29e-0bad4c0f7623",
   "metadata": {},
   "outputs": [],
   "source": [
    "(X_train, Y_train),(X_test, Y_test) = mnist.load_data()"
   ]
  },
  {
   "cell_type": "code",
   "execution_count": 17,
   "id": "d2b339aa-ba32-4881-ac6a-658bc48a6931",
   "metadata": {},
   "outputs": [
    {
     "name": "stdout",
     "output_type": "stream",
     "text": [
      "train set of image: 60000 개\n",
      "test set of image: 10000 개\n"
     ]
    }
   ],
   "source": [
    "print(\"train set of image: %d 개\" % (X_train.shape[0]))\n",
    "print(\"test set of image: %d 개\" % (X_test.shape[0]))"
   ]
  },
  {
   "cell_type": "code",
   "execution_count": 18,
   "id": "40be2711-4548-42d1-8048-a88fe0935974",
   "metadata": {},
   "outputs": [
    {
     "data": {
      "image/png": "[encoded data removed]",
      "text/plain": [
       "<Figure size 432x288 with 1 Axes>"
      ]
     },
     "metadata": {
      "needs_background": "light"
     },
     "output_type": "display_data"
    }
   ],
   "source": [
    "import matplotlib.pyplot as plt\n",
    "plt.imshow(X_train[0],cmap='Greys')\n",
    "plt.show()"
   ]
  },
  {
   "cell_type": "code",
   "execution_count": 19,
   "id": "9ce023b1-fca6-47d9-82c0-f460836ac826",
   "metadata": {},
   "outputs": [
    {
     "name": "stdout",
     "output_type": "stream",
     "text": [
      "0 30 30 30 30 30 30 30 30 30 30 30 30 30 30 30 30 30 30 30 30 30 30 30 30 30 30 30 3\n",
      "0 30 30 30 30 30 30 30 30 30 30 30 30 30 30 30 30 30 30 30 30 30 30 30 30 30 30 30 3\n",
      "0 30 30 30 30 30 30 30 30 30 30 30 30 30 30 30 30 30 30 30 30 30 30 30 30 30 30 30 3\n",
      "0 30 30 30 30 30 30 30 30 30 30 30 30 30 30 30 30 30 30 30 30 30 30 30 30 30 30 30 3\n",
      "0 30 30 30 30 30 30 30 30 30 30 30 30 30 30 30 30 30 30 30 30 30 30 30 30 30 30 30 3\n",
      "0 30 30 30 30 30 30 30 30 30 30 30 33 318 318 318 3126 3136 3175 326 3166 3255 3247 3127 30 30 30 30 3\n",
      "0 30 30 30 30 30 30 30 330 336 394 3154 3170 3253 3253 3253 3253 3253 3225 3172 3253 3242 3195 364 30 30 30 30 3\n",
      "0 30 30 30 30 30 30 349 3238 3253 3253 3253 3253 3253 3253 3253 3253 3251 393 382 382 356 339 30 30 30 30 30 3\n",
      "0 30 30 30 30 30 30 318 3219 3253 3253 3253 3253 3253 3198 3182 3247 3241 30 30 30 30 30 30 30 30 30 30 3\n",
      "0 30 30 30 30 30 30 30 380 3156 3107 3253 3253 3205 311 30 343 3154 30 30 30 30 30 30 30 30 30 30 3\n",
      "0 30 30 30 30 30 30 30 30 314 31 3154 3253 390 30 30 30 30 30 30 30 30 30 30 30 30 30 30 3\n",
      "0 30 30 30 30 30 30 30 30 30 30 3139 3253 3190 32 30 30 30 30 30 30 30 30 30 30 30 30 30 3\n",
      "0 30 30 30 30 30 30 30 30 30 30 311 3190 3253 370 30 30 30 30 30 30 30 30 30 30 30 30 30 3\n",
      "0 30 30 30 30 30 30 30 30 30 30 30 335 3241 3225 3160 3108 31 30 30 30 30 30 30 30 30 30 30 3\n",
      "0 30 30 30 30 30 30 30 30 30 30 30 30 381 3240 3253 3253 3119 325 30 30 30 30 30 30 30 30 30 3\n",
      "0 30 30 30 30 30 30 30 30 30 30 30 30 30 345 3186 3253 3253 3150 327 30 30 30 30 30 30 30 30 3\n",
      "0 30 30 30 30 30 30 30 30 30 30 30 30 30 30 316 393 3252 3253 3187 30 30 30 30 30 30 30 30 3\n",
      "0 30 30 30 30 30 30 30 30 30 30 30 30 30 30 30 30 3249 3253 3249 364 30 30 30 30 30 30 30 3\n",
      "0 30 30 30 30 30 30 30 30 30 30 30 30 30 346 3130 3183 3253 3253 3207 32 30 30 30 30 30 30 30 3\n",
      "0 30 30 30 30 30 30 30 30 30 30 30 339 3148 3229 3253 3253 3253 3250 3182 30 30 30 30 30 30 30 30 3\n",
      "0 30 30 30 30 30 30 30 30 30 324 3114 3221 3253 3253 3253 3253 3201 378 30 30 30 30 30 30 30 30 30 3\n",
      "0 30 30 30 30 30 30 30 323 366 3213 3253 3253 3253 3253 3198 381 32 30 30 30 30 30 30 30 30 30 30 3\n",
      "0 30 30 30 30 30 318 3171 3219 3253 3253 3253 3253 3195 380 39 30 30 30 30 30 30 30 30 30 30 30 30 3\n",
      "0 30 30 30 355 3172 3226 3253 3253 3253 3253 3244 3133 311 30 30 30 30 30 30 30 30 30 30 30 30 30 30 3\n",
      "0 30 30 30 3136 3253 3253 3253 3212 3135 3132 316 30 30 30 30 30 30 30 30 30 30 30 30 30 30 30 30 3\n",
      "0 30 30 30 30 30 30 30 30 30 30 30 30 30 30 30 30 30 30 30 30 30 30 30 30 30 30 30 3\n",
      "0 30 30 30 30 30 30 30 30 30 30 30 30 30 30 30 30 30 30 30 30 30 30 30 30 30 30 30 3\n",
      "0 30 30 30 30 30 30 30 30 30 30 30 30 30 30 30 30 30 30 30 30 30 30 30 30 30 30 30 3\n"
     ]
    }
   ],
   "source": [
    "for x in X_train[0]:\n",
    "    for i in x:\n",
    "        sys.stdout.write('%d 3' % i)\n",
    "    sys.stdout.write('\\n')"
   ]
  },
  {
   "cell_type": "code",
   "execution_count": 21,
   "id": "0086b26c-d865-413e-9bad-9fa6d87fc7e8",
   "metadata": {},
   "outputs": [
    {
     "name": "stdout",
     "output_type": "stream",
     "text": [
      "28\n"
     ]
    }
   ],
   "source": [
    "print(X_train[0].shape[0])\n",
    "#첫번째 데이터의 픽셀수가 28픽셀"
   ]
  },
  {
   "cell_type": "code",
   "execution_count": 22,
   "id": "1543e689-9b18-44db-82a9-af0a0852fa1f",
   "metadata": {},
   "outputs": [
    {
     "name": "stdout",
     "output_type": "stream",
     "text": [
      "28\n"
     ]
    }
   ],
   "source": [
    "print(X_train[0].shape[1])"
   ]
  },
  {
   "cell_type": "code",
   "execution_count": 23,
   "id": "fe37cce1-736b-463c-8811-950a49fcfed0",
   "metadata": {},
   "outputs": [],
   "source": [
    "#데이터 전처리\n",
    "#mnist데이터는 원래 3차원데이터\n",
    "#2차원으로 바꾸려면 전체개수는 그대로 써준다784로 써도됨\n",
    "X_train = X_train.reshape(X_train.shape[0],-1) \n",
    "X_train = X_train.astype(float)\n",
    "#입력피쳐값의 스케일을 0-1사이로 맞추기\n",
    "X_train=X_train / 255"
   ]
  },
  {
   "cell_type": "code",
   "execution_count": 24,
   "id": "fb2244cd-f9d9-4c05-88cd-e2e5de1baadd",
   "metadata": {},
   "outputs": [
    {
     "name": "stdout",
     "output_type": "stream",
     "text": [
      "[0.         0.         0.         0.         0.         0.\n",
      " 0.         0.         0.         0.         0.         0.\n",
      " 0.         0.         0.         0.         0.         0.\n",
      " 0.         0.         0.         0.         0.         0.\n",
      " 0.         0.         0.         0.         0.         0.\n",
      " 0.         0.         0.         0.         0.         0.\n",
      " 0.         0.         0.         0.         0.         0.\n",
      " 0.         0.         0.         0.         0.         0.\n",
      " 0.         0.         0.         0.         0.         0.\n",
      " 0.         0.         0.         0.         0.         0.\n",
      " 0.         0.         0.         0.         0.         0.\n",
      " 0.         0.         0.         0.         0.         0.\n",
      " 0.         0.         0.         0.         0.         0.\n",
      " 0.         0.         0.         0.         0.         0.\n",
      " 0.         0.         0.         0.         0.         0.\n",
      " 0.         0.         0.         0.         0.         0.\n",
      " 0.         0.         0.         0.         0.         0.\n",
      " 0.         0.         0.         0.         0.         0.\n",
      " 0.         0.         0.         0.         0.         0.\n",
      " 0.         0.         0.         0.         0.         0.\n",
      " 0.         0.         0.         0.         0.         0.\n",
      " 0.         0.         0.         0.         0.         0.\n",
      " 0.         0.         0.         0.         0.         0.\n",
      " 0.         0.         0.         0.         0.         0.\n",
      " 0.         0.         0.         0.         0.         0.\n",
      " 0.         0.         0.01176471 0.07058824 0.07058824 0.07058824\n",
      " 0.49411765 0.53333333 0.68627451 0.10196078 0.65098039 1.\n",
      " 0.96862745 0.49803922 0.         0.         0.         0.\n",
      " 0.         0.         0.         0.         0.         0.\n",
      " 0.         0.         0.11764706 0.14117647 0.36862745 0.60392157\n",
      " 0.66666667 0.99215686 0.99215686 0.99215686 0.99215686 0.99215686\n",
      " 0.88235294 0.6745098  0.99215686 0.94901961 0.76470588 0.25098039\n",
      " 0.         0.         0.         0.         0.         0.\n",
      " 0.         0.         0.         0.         0.         0.19215686\n",
      " 0.93333333 0.99215686 0.99215686 0.99215686 0.99215686 0.99215686\n",
      " 0.99215686 0.99215686 0.99215686 0.98431373 0.36470588 0.32156863\n",
      " 0.32156863 0.21960784 0.15294118 0.         0.         0.\n",
      " 0.         0.         0.         0.         0.         0.\n",
      " 0.         0.         0.         0.07058824 0.85882353 0.99215686\n",
      " 0.99215686 0.99215686 0.99215686 0.99215686 0.77647059 0.71372549\n",
      " 0.96862745 0.94509804 0.         0.         0.         0.\n",
      " 0.         0.         0.         0.         0.         0.\n",
      " 0.         0.         0.         0.         0.         0.\n",
      " 0.         0.         0.31372549 0.61176471 0.41960784 0.99215686\n",
      " 0.99215686 0.80392157 0.04313725 0.         0.16862745 0.60392157\n",
      " 0.         0.         0.         0.         0.         0.\n",
      " 0.         0.         0.         0.         0.         0.\n",
      " 0.         0.         0.         0.         0.         0.\n",
      " 0.         0.05490196 0.00392157 0.60392157 0.99215686 0.35294118\n",
      " 0.         0.         0.         0.         0.         0.\n",
      " 0.         0.         0.         0.         0.         0.\n",
      " 0.         0.         0.         0.         0.         0.\n",
      " 0.         0.         0.         0.         0.         0.\n",
      " 0.         0.54509804 0.99215686 0.74509804 0.00784314 0.\n",
      " 0.         0.         0.         0.         0.         0.\n",
      " 0.         0.         0.         0.         0.         0.\n",
      " 0.         0.         0.         0.         0.         0.\n",
      " 0.         0.         0.         0.         0.         0.04313725\n",
      " 0.74509804 0.99215686 0.2745098  0.         0.         0.\n",
      " 0.         0.         0.         0.         0.         0.\n",
      " 0.         0.         0.         0.         0.         0.\n",
      " 0.         0.         0.         0.         0.         0.\n",
      " 0.         0.         0.         0.         0.1372549  0.94509804\n",
      " 0.88235294 0.62745098 0.42352941 0.00392157 0.         0.\n",
      " 0.         0.         0.         0.         0.         0.\n",
      " 0.         0.         0.         0.         0.         0.\n",
      " 0.         0.         0.         0.         0.         0.\n",
      " 0.         0.         0.         0.31764706 0.94117647 0.99215686\n",
      " 0.99215686 0.46666667 0.09803922 0.         0.         0.\n",
      " 0.         0.         0.         0.         0.         0.\n",
      " 0.         0.         0.         0.         0.         0.\n",
      " 0.         0.         0.         0.         0.         0.\n",
      " 0.         0.         0.17647059 0.72941176 0.99215686 0.99215686\n",
      " 0.58823529 0.10588235 0.         0.         0.         0.\n",
      " 0.         0.         0.         0.         0.         0.\n",
      " 0.         0.         0.         0.         0.         0.\n",
      " 0.         0.         0.         0.         0.         0.\n",
      " 0.         0.0627451  0.36470588 0.98823529 0.99215686 0.73333333\n",
      " 0.         0.         0.         0.         0.         0.\n",
      " 0.         0.         0.         0.         0.         0.\n",
      " 0.         0.         0.         0.         0.         0.\n",
      " 0.         0.         0.         0.         0.         0.\n",
      " 0.         0.97647059 0.99215686 0.97647059 0.25098039 0.\n",
      " 0.         0.         0.         0.         0.         0.\n",
      " 0.         0.         0.         0.         0.         0.\n",
      " 0.         0.         0.         0.         0.         0.\n",
      " 0.         0.         0.18039216 0.50980392 0.71764706 0.99215686\n",
      " 0.99215686 0.81176471 0.00784314 0.         0.         0.\n",
      " 0.         0.         0.         0.         0.         0.\n",
      " 0.         0.         0.         0.         0.         0.\n",
      " 0.         0.         0.         0.         0.15294118 0.58039216\n",
      " 0.89803922 0.99215686 0.99215686 0.99215686 0.98039216 0.71372549\n",
      " 0.         0.         0.         0.         0.         0.\n",
      " 0.         0.         0.         0.         0.         0.\n",
      " 0.         0.         0.         0.         0.         0.\n",
      " 0.09411765 0.44705882 0.86666667 0.99215686 0.99215686 0.99215686\n",
      " 0.99215686 0.78823529 0.30588235 0.         0.         0.\n",
      " 0.         0.         0.         0.         0.         0.\n",
      " 0.         0.         0.         0.         0.         0.\n",
      " 0.         0.         0.09019608 0.25882353 0.83529412 0.99215686\n",
      " 0.99215686 0.99215686 0.99215686 0.77647059 0.31764706 0.00784314\n",
      " 0.         0.         0.         0.         0.         0.\n",
      " 0.         0.         0.         0.         0.         0.\n",
      " 0.         0.         0.         0.         0.07058824 0.67058824\n",
      " 0.85882353 0.99215686 0.99215686 0.99215686 0.99215686 0.76470588\n",
      " 0.31372549 0.03529412 0.         0.         0.         0.\n",
      " 0.         0.         0.         0.         0.         0.\n",
      " 0.         0.         0.         0.         0.         0.\n",
      " 0.21568627 0.6745098  0.88627451 0.99215686 0.99215686 0.99215686\n",
      " 0.99215686 0.95686275 0.52156863 0.04313725 0.         0.\n",
      " 0.         0.         0.         0.         0.         0.\n",
      " 0.         0.         0.         0.         0.         0.\n",
      " 0.         0.         0.         0.         0.53333333 0.99215686\n",
      " 0.99215686 0.99215686 0.83137255 0.52941176 0.51764706 0.0627451\n",
      " 0.         0.         0.         0.         0.         0.\n",
      " 0.         0.         0.         0.         0.         0.\n",
      " 0.         0.         0.         0.         0.         0.\n",
      " 0.         0.         0.         0.         0.         0.\n",
      " 0.         0.         0.         0.         0.         0.\n",
      " 0.         0.         0.         0.         0.         0.\n",
      " 0.         0.         0.         0.         0.         0.\n",
      " 0.         0.         0.         0.         0.         0.\n",
      " 0.         0.         0.         0.         0.         0.\n",
      " 0.         0.         0.         0.         0.         0.\n",
      " 0.         0.         0.         0.         0.         0.\n",
      " 0.         0.         0.         0.         0.         0.\n",
      " 0.         0.         0.         0.         0.         0.\n",
      " 0.         0.         0.         0.         0.         0.\n",
      " 0.         0.         0.         0.         0.         0.\n",
      " 0.         0.         0.         0.         0.         0.\n",
      " 0.         0.         0.         0.        ]\n"
     ]
    }
   ],
   "source": [
    "print(X_train[0])"
   ]
  },
  {
   "cell_type": "code",
   "execution_count": 25,
   "id": "7972b300-6999-4d12-a952-5ff9c171f6cc",
   "metadata": {},
   "outputs": [],
   "source": [
    "X_test = X_test.reshape(X_test.shape[0],-1).astype(float) / 255"
   ]
  },
  {
   "cell_type": "code",
   "execution_count": 26,
   "id": "7ec81a02-94a7-469e-989c-5eb3c50da6b5",
   "metadata": {},
   "outputs": [
    {
     "name": "stdout",
     "output_type": "stream",
     "text": [
      "5\n"
     ]
    }
   ],
   "source": [
    "print(Y_train[0])"
   ]
  },
  {
   "cell_type": "code",
   "execution_count": 27,
   "id": "cf6fa23f-6a15-446b-a7be-fcdbd5117bac",
   "metadata": {},
   "outputs": [],
   "source": [
    "Y_train = utils.to_categorical(Y_train,10)\n",
    "Y_test = utils.to_categorical(Y_test,10)"
   ]
  },
  {
   "cell_type": "code",
   "execution_count": 28,
   "id": "6e352f10-c42d-42cd-9a8f-499852334ecd",
   "metadata": {},
   "outputs": [
    {
     "name": "stdout",
     "output_type": "stream",
     "text": [
      "[0. 0. 0. 0. 0. 1. 0. 0. 0. 0.]\n"
     ]
    }
   ],
   "source": [
    "print(Y_train[0]) #원핫인코딩"
   ]
  },
  {
   "cell_type": "code",
   "execution_count": 30,
   "id": "e0c91a3d-75b5-4e49-8fcc-a23908a8e553",
   "metadata": {},
   "outputs": [],
   "source": [
    "# 데이터 전처리가 끝났고 나머지 작업\n",
    "\n",
    "from tensorflow.keras.models import Sequential\n",
    "from tensorflow.keras.layers import Dense\n",
    "\n",
    "model = Sequential()\n",
    "model.add(Dense(512, input_dim=28*28, activation = 'relu')) \n",
    "# 입력값은 784로, 이것을 512로 줄여준다. \n",
    "model.add(Dense(10, activation='softmax'))"
   ]
  },
  {
   "cell_type": "code",
   "execution_count": 31,
   "id": "a2a2418c-8e83-4660-9b34-f576456becd3",
   "metadata": {},
   "outputs": [
    {
     "name": "stdout",
     "output_type": "stream",
     "text": [
      "Model: \"sequential_2\"\n",
      "_________________________________________________________________\n",
      "Layer (type)                 Output Shape              Param #   \n",
      "=================================================================\n",
      "dense (Dense)                (None, 512)               401920    \n",
      "_________________________________________________________________\n",
      "dense_1 (Dense)              (None, 10)                5130      \n",
      "=================================================================\n",
      "Total params: 407,050\n",
      "Trainable params: 407,050\n",
      "Non-trainable params: 0\n",
      "_________________________________________________________________\n"
     ]
    }
   ],
   "source": [
    "model.summary()"
   ]
  },
  {
   "cell_type": "code",
   "execution_count": 32,
   "id": "d62b007f-002a-45c2-9120-a7393d7d33eb",
   "metadata": {},
   "outputs": [],
   "source": [
    "model.compile(loss='categorical_crossentropy',\n",
    "              optimizer='adam', metrics=['accuracy'])"
   ]
  },
  {
   "cell_type": "code",
   "execution_count": 33,
   "id": "e003b610-d758-4bc8-a490-36f606267f17",
   "metadata": {},
   "outputs": [],
   "source": [
    "from tensorflow.keras.callbacks import ModelCheckpoint\n",
    "from tensorflow.keras.callbacks import EarlyStopping\n",
    "import os\n",
    "\n",
    "MODEL_DIR = './model/'\n",
    "if not os.path.exists(MODEL_DIR):\n",
    "    os.mkdir(MODEL_DIR)\n",
    "    \n",
    "modelpath = './model/{epoch:02d}-{val_loss:.4f}.hdf5'\n",
    "checkpointer = ModelCheckpoint(filepath=modelpath,\n",
    "                              monitor='val_loss',\n",
    "                              verbose=1, save_best_only=True)\n",
    "\n",
    "early_stopping = EarlyStopping(monitor='val_loss', patience=10)\n",
    "#100까지 참아라"
   ]
  },
  {
   "cell_type": "code",
   "execution_count": 35,
   "id": "dcf4f5af-63e8-4c97-b526-de12c15330dd",
   "metadata": {},
   "outputs": [
    {
     "name": "stdout",
     "output_type": "stream",
     "text": [
      "\n",
      "Epoch 00001: val_loss improved from inf to 0.15198, saving model to ./model\\01-0.1520.hdf5\n",
      "\n",
      "Epoch 00002: val_loss improved from 0.15198 to 0.10631, saving model to ./model\\02-0.1063.hdf5\n",
      "\n",
      "Epoch 00003: val_loss improved from 0.10631 to 0.08703, saving model to ./model\\03-0.0870.hdf5\n",
      "\n",
      "Epoch 00004: val_loss improved from 0.08703 to 0.07544, saving model to ./model\\04-0.0754.hdf5\n",
      "\n",
      "Epoch 00005: val_loss improved from 0.07544 to 0.06849, saving model to ./model\\05-0.0685.hdf5\n",
      "\n",
      "Epoch 00006: val_loss did not improve from 0.06849\n",
      "\n",
      "Epoch 00007: val_loss improved from 0.06849 to 0.06496, saving model to ./model\\07-0.0650.hdf5\n",
      "\n",
      "Epoch 00008: val_loss did not improve from 0.06496\n",
      "\n",
      "Epoch 00009: val_loss improved from 0.06496 to 0.06316, saving model to ./model\\09-0.0632.hdf5\n",
      "\n",
      "Epoch 00010: val_loss did not improve from 0.06316\n",
      "\n",
      "Epoch 00011: val_loss improved from 0.06316 to 0.06316, saving model to ./model\\11-0.0632.hdf5\n",
      "\n",
      "Epoch 00012: val_loss did not improve from 0.06316\n",
      "\n",
      "Epoch 00013: val_loss did not improve from 0.06316\n",
      "\n",
      "Epoch 00014: val_loss did not improve from 0.06316\n",
      "\n",
      "Epoch 00015: val_loss did not improve from 0.06316\n",
      "\n",
      "Epoch 00016: val_loss did not improve from 0.06316\n",
      "\n",
      "Epoch 00017: val_loss did not improve from 0.06316\n",
      "\n",
      "Epoch 00018: val_loss did not improve from 0.06316\n",
      "\n",
      "Epoch 00019: val_loss did not improve from 0.06316\n",
      "\n",
      "Epoch 00020: val_loss did not improve from 0.06316\n",
      "\n",
      "Epoch 00021: val_loss did not improve from 0.06316\n"
     ]
    }
   ],
   "source": [
    "history = model.fit(X_train, Y_train, validation_data = (X_test, Y_test),\n",
    "                   epochs=30, batch_size=200, verbose=0,\n",
    "                   callbacks=[early_stopping, checkpointer])"
   ]
  },
  {
   "cell_type": "code",
   "execution_count": 36,
   "id": "cbdb393b-b025-4f55-bac9-2d55da94bdeb",
   "metadata": {},
   "outputs": [
    {
     "name": "stdout",
     "output_type": "stream",
     "text": [
      "313/313 [==============================] - 1s 2ms/step - loss: 0.0668 - accuracy: 0.9828\n",
      "Test Accuracy: 0.9828\n"
     ]
    }
   ],
   "source": [
    "print(\"Test Accuracy: %.4f\" % (model.evaluate(X_test, Y_test)[1]))"
   ]
  },
  {
   "cell_type": "code",
   "execution_count": 39,
   "id": "38086969-7747-4d72-b11d-d65274237090",
   "metadata": {},
   "outputs": [
    {
     "data": {
      "text/plain": [
       "<function matplotlib.pyplot.show(close=None, block=None)>"
      ]
     },
     "execution_count": 39,
     "metadata": {},
     "output_type": "execute_result"
    },
    {
     "data": {
      "image/png": "[encoded data removed]",
      "text/plain": [
       "<Figure size 432x288 with 1 Axes>"
      ]
     },
     "metadata": {
      "needs_background": "light"
     },
     "output_type": "display_data"
    }
   ],
   "source": [
    "y_vloss = history.history['val_loss']\n",
    "y_loss = history.history['loss']\n",
    "\n",
    "x_len = np.arange(len(y_loss))\n",
    "plt.plot(x_len, y_vloss, marker='.', c='red', label='Testset_loss')\n",
    "plt.plot(x_len, y_loss, marker='.', c='blue', label='Trainset_loss')\n",
    "plt.legend(loc='upper right')\n",
    "plt.grid()\n",
    "plt.xlabel('epoch')\n",
    "plt.ylabel('loss')\n",
    "plt.show"
   ]
  },
  {
   "cell_type": "code",
   "execution_count": null,
   "id": "5f77090a-835d-4e81-b1b5-78d47d7cecd4",
   "metadata": {},
   "outputs": [],
   "source": []
  }
 ],
 "metadata": {
  "kernelspec": {
   "display_name": "Python 3 (ipykernel)",
   "language": "python",
   "name": "python3"
  },
  "language_info": {
   "codemirror_mode": {
    "name": "ipython",
    "version": 3
   },
   "file_extension": ".py",
   "mimetype": "text/x-python",
   "name": "python",
   "nbconvert_exporter": "python",
   "pygments_lexer": "ipython3",
   "version": "3.9.6"
  }
 },
 "nbformat": 4,
 "nbformat_minor": 5
}
