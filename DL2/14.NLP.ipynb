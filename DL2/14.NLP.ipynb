{
 "cells": [
  {
   "cell_type": "code",
   "execution_count": 10,
   "id": "bc3859db-8e1f-4059-9ffe-d74d8338bbe5",
   "metadata": {},
   "outputs": [],
   "source": [
    "import numpy as np\n",
    "import tensorflow as tf\n",
    "from tensorflow.keras.preprocessing.text import Tokenizer, text_to_word_sequence\n",
    "  \n",
    "from tensorflow.keras.preprocessing.sequence import pad_sequences\n",
    "from tensorflow.keras.models import Sequential\n",
    "from tensorflow.keras.layers import Dense, Flatten, Embedding"
   ]
  },
  {
   "cell_type": "code",
   "execution_count": 11,
   "id": "86be1e58-63eb-4ec1-b51a-129efdbd2d41",
   "metadata": {},
   "outputs": [],
   "source": [
    "text = '해보지 않으면 해낼 수 없다'"
   ]
  },
  {
   "cell_type": "code",
   "execution_count": 12,
   "id": "b5dce645-d25b-44f7-aeaf-c04c398775dc",
   "metadata": {},
   "outputs": [
    {
     "name": "stdout",
     "output_type": "stream",
     "text": [
      "<원문\n",
      "> 해보지 않으면 해낼 수 없다\n",
      "\n",
      "<토큰화>\n",
      " ['해보지', '않으면', '해낼', '수', '없다']\n"
     ]
    }
   ],
   "source": [
    "result = text_to_word_sequence(text)\n",
    "print(\"<원문\\n>\", text)\n",
    "print(\"\\n<토큰화>\\n\",result)"
   ]
  },
  {
   "cell_type": "code",
   "execution_count": 13,
   "id": "daaa49f1-c2f0-481c-b062-90d20addd0dc",
   "metadata": {},
   "outputs": [],
   "source": [
    "docs = ['먼저 텍스트의 각 단어를 나누어 토큰화 합니다.',\n",
    "       '텍스트의 단어로 토큰화 해야 딥러닝에서 인식됩니다.',\n",
    "       '토큰화 한 결과는 딥러닝에서 사용 할 수 있습니다.',\n",
    "       ]"
   ]
  },
  {
   "cell_type": "code",
   "execution_count": 14,
   "id": "09271db6-b148-4f79-b8e6-628068920e82",
   "metadata": {},
   "outputs": [],
   "source": [
    "token = Tokenizer()\n",
    "token.fit_on_texts(docs)"
   ]
  },
  {
   "cell_type": "code",
   "execution_count": 15,
   "id": "447b270f-b611-41f5-aa94-65ed045ff8bc",
   "metadata": {},
   "outputs": [
    {
     "name": "stdout",
     "output_type": "stream",
     "text": [
      "<단어 카운트>\n",
      " OrderedDict([('먼저', 1), ('텍스트의', 2), ('각', 1), ('단어를', 1), ('나누어', 1), ('토큰화', 3), ('합니다', 1), ('단어로', 1), ('해야', 1), ('딥러닝에서', 2), ('인식됩니다', 1), ('한', 1), ('결과는', 1), ('사용', 1), ('할', 1), ('수', 1), ('있습니다', 1)])\n"
     ]
    }
   ],
   "source": [
    "print(\"<단어 카운트>\\n\", token.word_counts)"
   ]
  },
  {
   "cell_type": "code",
   "execution_count": 16,
   "id": "49f5fb3f-b1d2-44ea-9372-6afa17d0d1ea",
   "metadata": {},
   "outputs": [
    {
     "name": "stdout",
     "output_type": "stream",
     "text": [
      "<문장 카운트>\n",
      " 3\n"
     ]
    }
   ],
   "source": [
    "print(\"<문장 카운트>\\n\", token.document_count)"
   ]
  },
  {
   "cell_type": "code",
   "execution_count": 17,
   "id": "1d5ab23a-b903-4ab5-882d-d780020b7cf4",
   "metadata": {},
   "outputs": [
    {
     "name": "stdout",
     "output_type": "stream",
     "text": [
      "<각 단어가 몇개의 문장에 포함되어 있는가>\n",
      " defaultdict(<class 'int'>, {'단어를': 1, '텍스트의': 2, '나누어': 1, '각': 1, '먼저': 1, '토큰화': 3, '합니다': 1, '단어로': 1, '해야': 1, '인식됩니다': 1, '딥러닝에서': 2, '사용': 1, '있습니다': 1, '수': 1, '할': 1, '한': 1, '결과는': 1})\n"
     ]
    }
   ],
   "source": [
    "print(\"<각 단어가 몇개의 문장에 포함되어 있는가>\\n\", token.word_docs)"
   ]
  },
  {
   "cell_type": "code",
   "execution_count": 18,
   "id": "4ac9b31e-614d-45ad-9dfe-3c8b377df193",
   "metadata": {},
   "outputs": [
    {
     "name": "stdout",
     "output_type": "stream",
     "text": [
      "<각 단어에 매겨진 인덱스 값>\n",
      " {'토큰화': 1, '텍스트의': 2, '딥러닝에서': 3, '먼저': 4, '각': 5, '단어를': 6, '나누어': 7, '합니다': 8, '단어로': 9, '해야': 10, '인식됩니다': 11, '한': 12, '결과는': 13, '사용': 14, '할': 15, '수': 16, '있습니다': 17}\n"
     ]
    }
   ],
   "source": [
    "print(\"<각 단어에 매겨진 인덱스 값>\\n\",token.word_index)"
   ]
  },
  {
   "cell_type": "code",
   "execution_count": 21,
   "id": "f2f9393a-9002-4e5f-aadc-bf69e199b646",
   "metadata": {},
   "outputs": [
    {
     "name": "stdout",
     "output_type": "stream",
     "text": [
      "{'오랫동안': 1, '꿈꾸는': 2, '이는': 3, '그': 4, '꿈을': 5, '닮아간다': 6}\n"
     ]
    }
   ],
   "source": [
    "text= \"오랫동안 꿈꾸는 이는 그 꿈을 닮아간다\"\n",
    "\n",
    "\n",
    "\n",
    "token = Tokenizer()\n",
    "token.fit_on_texts([text])\n",
    "print(token.word_index)"
   ]
  },
  {
   "cell_type": "code",
   "execution_count": 22,
   "id": "de6dade9-d315-4680-a9ca-8e4556a8a344",
   "metadata": {},
   "outputs": [
    {
     "name": "stdout",
     "output_type": "stream",
     "text": [
      "[[1, 2, 3, 4, 5, 6]]\n"
     ]
    }
   ],
   "source": [
    "x = token.texts_to_sequences([text])\n",
    "print(x)"
   ]
  },
  {
   "cell_type": "code",
   "execution_count": 25,
   "id": "e31d31fd-3cec-4cfd-bded-eefbe8651cbb",
   "metadata": {},
   "outputs": [],
   "source": [
    "word_size = len(token.word_index)+1\n",
    "x = tf.keras.utils.to_categorical(x, num_classes=word_size)"
   ]
  },
  {
   "cell_type": "code",
   "execution_count": 26,
   "id": "de6861bd-b003-4f77-9cb2-e9087b4c19d2",
   "metadata": {},
   "outputs": [
    {
     "name": "stdout",
     "output_type": "stream",
     "text": [
      "[[[0. 1. 0. 0. 0. 0. 0.]\n",
      "  [0. 0. 1. 0. 0. 0. 0.]\n",
      "  [0. 0. 0. 1. 0. 0. 0.]\n",
      "  [0. 0. 0. 0. 1. 0. 0.]\n",
      "  [0. 0. 0. 0. 0. 1. 0.]\n",
      "  [0. 0. 0. 0. 0. 0. 1.]]]\n"
     ]
    }
   ],
   "source": [
    "print(x)"
   ]
  },
  {
   "cell_type": "markdown",
   "id": "b30360b9-0de2-462e-b265-454acc34c791",
   "metadata": {},
   "source": [
    "문장을 단어 단위로 토큰화하고 그것을 인데스로 만들고 원핫인코딩을 해준다"
   ]
  },
  {
   "cell_type": "code",
   "execution_count": 27,
   "id": "a8f1ec12-baa6-4ae8-a7f7-9e5a321477da",
   "metadata": {},
   "outputs": [],
   "source": [
    "docs = [\"너무 재밌네요\",\"최고예요\",\"참 잘 만든 영화예요\",\"추천하고 싶은 영화입니다\",\"한번 더 보고싶네요\",\"글쎄요\",\"별로예요\",\"생각보다 지루하네요\",\"연기가 어색해요\",\"재미없어요\"]"
   ]
  },
  {
   "cell_type": "code",
   "execution_count": 28,
   "id": "5380f0c7-c1f5-476b-9fac-c56819f21d6c",
   "metadata": {},
   "outputs": [],
   "source": [
    "#타깃만들기\n",
    "classes = np.array([1,1,1,1,1,0,0,0,0,0])"
   ]
  },
  {
   "cell_type": "code",
   "execution_count": 29,
   "id": "53703026-ae62-431f-ae59-b93fb49d1014",
   "metadata": {},
   "outputs": [
    {
     "name": "stdout",
     "output_type": "stream",
     "text": [
      "{'너무': 1, '재밌네요': 2, '최고예요': 3, '참': 4, '잘': 5, '만든': 6, '영화예요': 7, '추천하고': 8, '싶은': 9, '영화입니다': 10, '한번': 11, '더': 12, '보고싶네요': 13, '글쎄요': 14, '별로예요': 15, '생각보다': 16, '지루하네요': 17, '연기가': 18, '어색해요': 19, '재미없어요': 20}\n"
     ]
    }
   ],
   "source": [
    "token = Tokenizer()\n",
    "token.fit_on_texts(docs)\n",
    "print(token.word_index)"
   ]
  },
  {
   "cell_type": "code",
   "execution_count": 30,
   "id": "807ede65-f9a7-4502-aada-7df50a71d6e3",
   "metadata": {},
   "outputs": [
    {
     "name": "stdout",
     "output_type": "stream",
     "text": [
      "리뷰 텍스트 토큰화 결과\n",
      " [[1, 2], [3], [4, 5, 6, 7], [8, 9, 10], [11, 12, 13], [14], [15], [16, 17], [18, 19], [20]]\n"
     ]
    }
   ],
   "source": [
    "x = token.texts_to_sequences(docs)\n",
    "print(\"리뷰 텍스트 토큰화 결과\\n\", x)"
   ]
  },
  {
   "cell_type": "code",
   "execution_count": 31,
   "id": "d7ffe6f3-2dae-43d5-8280-ecac43a00179",
   "metadata": {},
   "outputs": [
    {
     "name": "stdout",
     "output_type": "stream",
     "text": [
      "패딩 결과\n",
      " [[ 0  0  1  2]\n",
      " [ 0  0  0  3]\n",
      " [ 4  5  6  7]\n",
      " [ 0  8  9 10]\n",
      " [ 0 11 12 13]\n",
      " [ 0  0  0 14]\n",
      " [ 0  0  0 15]\n",
      " [ 0  0 16 17]\n",
      " [ 0  0 18 19]\n",
      " [ 0  0  0 20]]\n"
     ]
    }
   ],
   "source": [
    "padded_x = pad_sequences(x, 4)# 4로 맞춰짐\n",
    "print(\"패딩 결과\\n\", padded_x)"
   ]
  },
  {
   "cell_type": "code",
   "execution_count": 32,
   "id": "0d086ca5-b797-45da-9088-32ef55abde12",
   "metadata": {},
   "outputs": [],
   "source": [
    "word_size = len(token.word_index) + 1 #꼭 +1해주기"
   ]
  },
  {
   "cell_type": "code",
   "execution_count": 34,
   "id": "242278b2-51f1-4321-b9bc-8935ba07939c",
   "metadata": {},
   "outputs": [],
   "source": [
    "model = Sequential()\n",
    "model.add(Embedding(word_size,8, input_length=4))\n",
    "model.add(Flatten())\n",
    "model.add(Dense(1, activation='sigmoid'))"
   ]
  },
  {
   "cell_type": "code",
   "execution_count": 35,
   "id": "9190dc39-61c9-42b0-8b6a-463da829f284",
   "metadata": {},
   "outputs": [
    {
     "name": "stdout",
     "output_type": "stream",
     "text": [
      "Model: \"sequential_1\"\n",
      "_________________________________________________________________\n",
      "Layer (type)                 Output Shape              Param #   \n",
      "=================================================================\n",
      "embedding_1 (Embedding)      (None, 4, 8)              168       \n",
      "_________________________________________________________________\n",
      "flatten (Flatten)            (None, 32)                0         \n",
      "_________________________________________________________________\n",
      "dense (Dense)                (None, 1)                 33        \n",
      "=================================================================\n",
      "Total params: 201\n",
      "Trainable params: 201\n",
      "Non-trainable params: 0\n",
      "_________________________________________________________________\n"
     ]
    }
   ],
   "source": [
    "model.summary()"
   ]
  },
  {
   "cell_type": "code",
   "execution_count": 36,
   "id": "955a3109-50e4-40e5-b096-b17892bc4632",
   "metadata": {},
   "outputs": [
    {
     "name": "stdout",
     "output_type": "stream",
     "text": [
      "Epoch 1/20\n",
      "1/1 [==============================] - 0s 494ms/step - loss: 0.6970 - accuracy: 0.4000\n",
      "Epoch 2/20\n",
      "1/1 [==============================] - 0s 2ms/step - loss: 0.6946 - accuracy: 0.5000\n",
      "Epoch 3/20\n",
      "1/1 [==============================] - 0s 2ms/step - loss: 0.6922 - accuracy: 0.6000\n",
      "Epoch 4/20\n",
      "1/1 [==============================] - 0s 2ms/step - loss: 0.6898 - accuracy: 0.6000\n",
      "Epoch 5/20\n",
      "1/1 [==============================] - 0s 1ms/step - loss: 0.6875 - accuracy: 0.7000\n",
      "Epoch 6/20\n",
      "1/1 [==============================] - 0s 2ms/step - loss: 0.6851 - accuracy: 0.7000\n",
      "Epoch 7/20\n",
      "1/1 [==============================] - 0s 1ms/step - loss: 0.6828 - accuracy: 0.7000\n",
      "Epoch 8/20\n",
      "1/1 [==============================] - 0s 997us/step - loss: 0.6805 - accuracy: 0.7000\n",
      "Epoch 9/20\n",
      "1/1 [==============================] - 0s 1ms/step - loss: 0.6782 - accuracy: 0.7000\n",
      "Epoch 10/20\n",
      "1/1 [==============================] - 0s 1ms/step - loss: 0.6758 - accuracy: 0.7000\n",
      "Epoch 11/20\n",
      "1/1 [==============================] - 0s 3ms/step - loss: 0.6735 - accuracy: 0.7000\n",
      "Epoch 12/20\n",
      "1/1 [==============================] - 0s 996us/step - loss: 0.6712 - accuracy: 0.7000\n",
      "Epoch 13/20\n",
      "1/1 [==============================] - 0s 2ms/step - loss: 0.6689 - accuracy: 0.8000\n",
      "Epoch 14/20\n",
      "1/1 [==============================] - 0s 2ms/step - loss: 0.6666 - accuracy: 0.8000\n",
      "Epoch 15/20\n",
      "1/1 [==============================] - 0s 2ms/step - loss: 0.6643 - accuracy: 0.8000\n",
      "Epoch 16/20\n",
      "1/1 [==============================] - 0s 4ms/step - loss: 0.6620 - accuracy: 0.8000\n",
      "Epoch 17/20\n",
      "1/1 [==============================] - 0s 2ms/step - loss: 0.6596 - accuracy: 0.9000\n",
      "Epoch 18/20\n",
      "1/1 [==============================] - 0s 3ms/step - loss: 0.6573 - accuracy: 0.9000\n",
      "Epoch 19/20\n",
      "1/1 [==============================] - 0s 3ms/step - loss: 0.6550 - accuracy: 0.9000\n",
      "Epoch 20/20\n",
      "1/1 [==============================] - 0s 1ms/step - loss: 0.6526 - accuracy: 0.9000\n"
     ]
    },
    {
     "data": {
      "text/plain": [
       "<keras.callbacks.History at 0x1e3cc8742e0>"
      ]
     },
     "execution_count": 36,
     "metadata": {},
     "output_type": "execute_result"
    }
   ],
   "source": [
    "model.compile(loss='binary_crossentropy', optimizer='adam', metrics=['accuracy'])\n",
    "model.fit(padded_x, classes, epochs=20)"
   ]
  },
  {
   "cell_type": "code",
   "execution_count": 37,
   "id": "a49c403a-e349-4327-b212-074c4d84a2e8",
   "metadata": {},
   "outputs": [
    {
     "name": "stdout",
     "output_type": "stream",
     "text": [
      "1/1 [==============================] - 0s 91ms/step - loss: 0.6503 - accuracy: 0.9000\n",
      "Accuracy: 0.9000\n"
     ]
    }
   ],
   "source": [
    "print(\"Accuracy: %.4f\" % (model.evaluate(padded_x, classes)[1]))"
   ]
  },
  {
   "cell_type": "code",
   "execution_count": null,
   "id": "a7337809-c4fd-4599-b74a-eb704994278a",
   "metadata": {},
   "outputs": [],
   "source": [
    "#시계열 데이터\n"
   ]
  }
 ],
 "metadata": {
  "kernelspec": {
   "display_name": "Python 3 (ipykernel)",
   "language": "python",
   "name": "python3"
  },
  "language_info": {
   "codemirror_mode": {
    "name": "ipython",
    "version": 3
   },
   "file_extension": ".py",
   "mimetype": "text/x-python",
   "name": "python",
   "nbconvert_exporter": "python",
   "pygments_lexer": "ipython3",
   "version": "3.9.6"
  }
 },
 "nbformat": 4,
 "nbformat_minor": 5
}
