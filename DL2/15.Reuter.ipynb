{
 "cells": [
  {
   "cell_type": "code",
   "execution_count": 1,
   "id": "f0c34e9a-c454-4d26-be54-38ce6391cf0a",
   "metadata": {},
   "outputs": [],
   "source": [
    "import numpy as np\n",
    "import tensorflow as tf\n",
    "import matplotlib.pyplot as plt\n",
    "from tensorflow.keras.datasets import reuters\n",
    "from tensorflow.keras.models import Sequential\n",
    "from tensorflow.keras.layers import Dense, LSTM, Embedding\n",
    "from tensorflow.keras.preprocessing import sequence\n",
    "from tensorflow.keras import utils"
   ]
  },
  {
   "cell_type": "code",
   "execution_count": 2,
   "id": "76b59c97-b6d7-42f2-a62f-c021c2e0ec2f",
   "metadata": {},
   "outputs": [
    {
     "name": "stdout",
     "output_type": "stream",
     "text": [
      "Downloading data from https://storage.googleapis.com/tensorflow/tf-keras-datasets/reuters.npz\n",
      "2113536/2110848 [==============================] - 0s 0us/step\n",
      "2121728/2110848 [==============================] - 0s 0us/step\n"
     ]
    }
   ],
   "source": [
    "(X_train, Y_train), (X_test, Y_test) = reuters.load_data(num_words = 1000, test_split = 0.2)"
   ]
  },
  {
   "cell_type": "code",
   "execution_count": 3,
   "id": "18b0d486-d638-4ae7-96c7-da54d33fd630",
   "metadata": {},
   "outputs": [
    {
     "name": "stdout",
     "output_type": "stream",
     "text": [
      "46 카테고리\n",
      "8982 학습용 뉴스 기사\n",
      "2246 테스트용 뉴스 기사\n",
      "[1, 2, 2, 8, 43, 10, 447, 5, 25, 207, 270, 5, 2, 111, 16, 369, 186, 90, 67, 7, 89, 5, 19, 102, 6, 19, 124, 15, 90, 67, 84, 22, 482, 26, 7, 48, 4, 49, 8, 864, 39, 209, 154, 6, 151, 6, 83, 11, 15, 22, 155, 11, 15, 7, 48, 9, 2, 2, 504, 6, 258, 6, 272, 11, 15, 22, 134, 44, 11, 15, 16, 8, 197, 2, 90, 67, 52, 29, 209, 30, 32, 132, 6, 109, 15, 17, 12]\n"
     ]
    }
   ],
   "source": [
    "category = np.max(Y_train) + 1\n",
    "print(category, '카테고리')\n",
    "print(len(X_train), '학습용 뉴스 기사')\n",
    "print(len(X_test), '테스트용 뉴스 기사')\n",
    "print(X_train[0])"
   ]
  },
  {
   "cell_type": "code",
   "execution_count": 4,
   "id": "d0f3706d-7a53-4310-9c42-08b39de58510",
   "metadata": {},
   "outputs": [],
   "source": [
    "x_train = sequence.pad_sequences(X_train, maxlen = 100)\n",
    "x_test = sequence.pad_sequences(X_test, maxlen = 100)\n",
    "y_train = utils.to_categorical(Y_train)\n",
    "y_test = utils.to_categorical(Y_test)"
   ]
  },
  {
   "cell_type": "code",
   "execution_count": 6,
   "id": "08beac9a-a989-4842-8412-c6cc50bbf274",
   "metadata": {},
   "outputs": [],
   "source": [
    "model = Sequential()\n",
    "model.add(Embedding(1000, 100))\n",
    "model.add(LSTM(100, activation = 'tanh'))\n",
    "model.add(Dense(46, activation = 'softmax'))"
   ]
  },
  {
   "cell_type": "code",
   "execution_count": 7,
   "id": "7a3b780b-c68f-4b0b-afae-76adb6e55931",
   "metadata": {},
   "outputs": [
    {
     "name": "stdout",
     "output_type": "stream",
     "text": [
      "Model: \"sequential_1\"\n",
      "_________________________________________________________________\n",
      "Layer (type)                 Output Shape              Param #   \n",
      "=================================================================\n",
      "embedding_1 (Embedding)      (None, None, 100)         100000    \n",
      "_________________________________________________________________\n",
      "lstm_1 (LSTM)                (None, 100)               80400     \n",
      "_________________________________________________________________\n",
      "dense_1 (Dense)              (None, 46)                4646      \n",
      "=================================================================\n",
      "Total params: 185,046\n",
      "Trainable params: 185,046\n",
      "Non-trainable params: 0\n",
      "_________________________________________________________________\n"
     ]
    }
   ],
   "source": [
    "model.summary()"
   ]
  },
  {
   "cell_type": "code",
   "execution_count": 9,
   "id": "9e04f3d5-ede1-4f21-8ecb-da421b2ec761",
   "metadata": {},
   "outputs": [],
   "source": [
    "model.compile(loss='categorical_crossentropy',optimizer='adam',metrics=['accuracy'])"
   ]
  },
  {
   "cell_type": "code",
   "execution_count": 10,
   "id": "b0366db0-a37d-417c-bdbd-3d5347b2c475",
   "metadata": {},
   "outputs": [
    {
     "name": "stdout",
     "output_type": "stream",
     "text": [
      "Epoch 1/20\n",
      "90/90 [==============================] - 12s 112ms/step - loss: 2.5897 - accuracy: 0.3470 - val_loss: 2.1268 - val_accuracy: 0.4693\n",
      "Epoch 2/20\n",
      "90/90 [==============================] - 11s 118ms/step - loss: 2.0144 - accuracy: 0.4829 - val_loss: 1.8976 - val_accuracy: 0.5022\n",
      "Epoch 3/20\n",
      "90/90 [==============================] - 11s 120ms/step - loss: 1.8626 - accuracy: 0.4973 - val_loss: 1.7751 - val_accuracy: 0.5405\n",
      "Epoch 4/20\n",
      "90/90 [==============================] - 11s 120ms/step - loss: 1.7162 - accuracy: 0.5512 - val_loss: 1.7502 - val_accuracy: 0.5374\n",
      "Epoch 5/20\n",
      "90/90 [==============================] - 11s 125ms/step - loss: 1.6170 - accuracy: 0.5817 - val_loss: 1.6152 - val_accuracy: 0.5864\n",
      "Epoch 6/20\n",
      "90/90 [==============================] - 11s 120ms/step - loss: 1.5267 - accuracy: 0.6067 - val_loss: 1.5187 - val_accuracy: 0.6287\n",
      "Epoch 7/20\n",
      "90/90 [==============================] - 11s 125ms/step - loss: 1.4095 - accuracy: 0.6358 - val_loss: 1.4669 - val_accuracy: 0.6300\n",
      "Epoch 8/20\n",
      "90/90 [==============================] - 11s 127ms/step - loss: 1.3324 - accuracy: 0.6578 - val_loss: 1.4723 - val_accuracy: 0.6224\n",
      "Epoch 9/20\n",
      "90/90 [==============================] - 11s 128ms/step - loss: 1.2604 - accuracy: 0.6728 - val_loss: 1.3487 - val_accuracy: 0.6643\n",
      "Epoch 10/20\n",
      "90/90 [==============================] - 12s 131ms/step - loss: 1.1782 - accuracy: 0.6981 - val_loss: 1.3126 - val_accuracy: 0.6723\n",
      "Epoch 11/20\n",
      "90/90 [==============================] - 12s 132ms/step - loss: 1.1266 - accuracy: 0.7142 - val_loss: 1.2739 - val_accuracy: 0.6754\n",
      "Epoch 12/20\n",
      "90/90 [==============================] - 12s 133ms/step - loss: 1.0659 - accuracy: 0.7253 - val_loss: 1.2947 - val_accuracy: 0.6897\n",
      "Epoch 13/20\n",
      "90/90 [==============================] - 12s 134ms/step - loss: 1.0063 - accuracy: 0.7452 - val_loss: 1.2290 - val_accuracy: 0.6866\n",
      "Epoch 14/20\n",
      "90/90 [==============================] - 13s 142ms/step - loss: 0.9628 - accuracy: 0.7548 - val_loss: 1.2099 - val_accuracy: 0.6968\n",
      "Epoch 15/20\n",
      "90/90 [==============================] - 14s 153ms/step - loss: 0.9224 - accuracy: 0.7644 - val_loss: 1.1934 - val_accuracy: 0.7061\n",
      "Epoch 16/20\n",
      "90/90 [==============================] - 14s 152ms/step - loss: 0.8882 - accuracy: 0.7692 - val_loss: 1.2169 - val_accuracy: 0.6995\n",
      "Epoch 17/20\n",
      "90/90 [==============================] - 13s 147ms/step - loss: 0.8457 - accuracy: 0.7819 - val_loss: 1.1988 - val_accuracy: 0.7021\n",
      "Epoch 18/20\n",
      "90/90 [==============================] - 13s 147ms/step - loss: 0.8108 - accuracy: 0.7943 - val_loss: 1.1930 - val_accuracy: 0.7044\n",
      "Epoch 19/20\n",
      "90/90 [==============================] - 14s 150ms/step - loss: 0.7844 - accuracy: 0.7989 - val_loss: 1.2083 - val_accuracy: 0.7110\n",
      "Epoch 20/20\n",
      "90/90 [==============================] - 13s 147ms/step - loss: 0.7547 - accuracy: 0.8110 - val_loss: 1.2006 - val_accuracy: 0.7155\n"
     ]
    }
   ],
   "source": [
    "history = model.fit(x_train, y_train, batch_size=100, epochs=20,validation_data=(x_test, y_test))"
   ]
  },
  {
   "cell_type": "code",
   "execution_count": 11,
   "id": "daa85dcf-2ef6-441f-909e-97a036e47fc4",
   "metadata": {},
   "outputs": [
    {
     "name": "stdout",
     "output_type": "stream",
     "text": [
      "71/71 [==============================] - 1s 19ms/step - loss: 1.2006 - accuracy: 0.7155\n",
      "Test Accuracy: 0.7155\n"
     ]
    }
   ],
   "source": [
    "print(\"Test Accuracy: %.4f\" % (model.evaluate(x_test, y_test)[1]))"
   ]
  },
  {
   "cell_type": "code",
   "execution_count": 12,
   "id": "3facb9d0-9957-4f30-a2ef-6d2003f78e34",
   "metadata": {},
   "outputs": [
    {
     "data": {
      "image/png": "[encoded data removed]",
      "text/plain": [
       "<Figure size 432x288 with 1 Axes>"
      ]
     },
     "metadata": {
      "needs_background": "light"
     },
     "output_type": "display_data"
    }
   ],
   "source": [
    "y_vloss = history. history['val_loss']\n",
    "y_loss = history.history['loss']\n",
    "x_len = np.arange(len(y_loss))\n",
    "plt.plot(x_len, y_vloss, marker='.', c='red', label='Testset_loss')\n",
    "plt.plot(x_len, y_loss, marker='.', c='blue', label='Trainset_loss')\n",
    "plt.legend(loc='upper right')\n",
    "plt.grid()\n",
    "plt.xlabel('epoch')\n",
    "plt.ylabel('loss')\n",
    "plt.show()"
   ]
  },
  {
   "cell_type": "code",
   "execution_count": null,
   "id": "ac7414e7-3f30-4a23-8a28-8481e30d4dc4",
   "metadata": {},
   "outputs": [],
   "source": []
  }
 ],
 "metadata": {
  "kernelspec": {
   "display_name": "Python 3 (ipykernel)",
   "language": "python",
   "name": "python3"
  },
  "language_info": {
   "codemirror_mode": {
    "name": "ipython",
    "version": 3
   },
   "file_extension": ".py",
   "mimetype": "text/x-python",
   "name": "python",
   "nbconvert_exporter": "python",
   "pygments_lexer": "ipython3",
   "version": "3.9.6"
  }
 },
 "nbformat": 4,
 "nbformat_minor": 5
}
