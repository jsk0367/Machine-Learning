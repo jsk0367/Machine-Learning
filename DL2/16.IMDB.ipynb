{
 "cells": [
  {
   "cell_type": "code",
   "execution_count": 1,
   "id": "0e639785-09d8-4d40-84ea-93ae233631fb",
   "metadata": {},
   "outputs": [],
   "source": [
    "from tensorflow.keras.preprocessing import sequence\n",
    "from tensorflow.keras.models import Sequential\n",
    "from tensorflow.keras.layers import Dense, Dropout, Activation, Embedding, LSTM\n",
    "from tensorflow.keras.layers import Conv1D, MaxPooling1D\n",
    "from tensorflow.keras.datasets import imdb\n",
    "import numpy as np\n",
    "import matplotlib.pyplot as plt\n"
   ]
  },
  {
   "cell_type": "code",
   "execution_count": 2,
   "id": "4037b3fc-a7eb-4944-8f00-8ba96ef21578",
   "metadata": {},
   "outputs": [
    {
     "name": "stdout",
     "output_type": "stream",
     "text": [
      "Downloading data from https://storage.googleapis.com/tensorflow/tf-keras-datasets/imdb.npz\n",
      "17465344/17464789 [==============================] - 2s 0us/step\n",
      "17473536/17464789 [==============================] - 2s 0us/step\n"
     ]
    }
   ],
   "source": [
    "(x_train, y_train),(x_test, y_test) = imdb.load_data(num_words=5000)"
   ]
  },
  {
   "cell_type": "code",
   "execution_count": 4,
   "id": "123fb023-02d1-442e-821a-d0aa7ff88119",
   "metadata": {},
   "outputs": [],
   "source": [
    "x_train = sequence.pad_sequences(x_train, maxlen=100)\n",
    "x_test = sequence.pad_sequences(x_test, maxlen=100)"
   ]
  },
  {
   "cell_type": "code",
   "execution_count": 6,
   "id": "8b7eb362-db1a-4d19-8d0b-813054575512",
   "metadata": {},
   "outputs": [],
   "source": [
    "model = Sequential()\n",
    "model.add(Embedding(5000,100))\n",
    "model.add(Dropout(0.5))\n",
    "model.add(Conv1D(64, 5, padding='valid',activation='relu',strides=1))\n",
    "#strides=1 마스크가 한칸씩 이동한다\n",
    "model.add(MaxPooling1D(pool_size=4))\n",
    "model.add(LSTM(55))\n",
    "model.add(Dense(1))#출력 하나(긍정 이거나 부정)\n",
    "model.add(Activation('sigmoid'))"
   ]
  },
  {
   "cell_type": "code",
   "execution_count": 8,
   "id": "025bbeeb-531b-4a47-a1f2-8f1917bc74f4",
   "metadata": {},
   "outputs": [
    {
     "name": "stdout",
     "output_type": "stream",
     "text": [
      "Model: \"sequential_1\"\n",
      "_________________________________________________________________\n",
      "Layer (type)                 Output Shape              Param #   \n",
      "=================================================================\n",
      "embedding_1 (Embedding)      (None, None, 100)         500000    \n",
      "_________________________________________________________________\n",
      "dropout_1 (Dropout)          (None, None, 100)         0         \n",
      "_________________________________________________________________\n",
      "conv1d (Conv1D)              (None, None, 64)          32064     \n",
      "_________________________________________________________________\n",
      "max_pooling1d (MaxPooling1D) (None, None, 64)          0         \n",
      "_________________________________________________________________\n",
      "lstm (LSTM)                  (None, 55)                26400     \n",
      "_________________________________________________________________\n",
      "dense (Dense)                (None, 1)                 56        \n",
      "_________________________________________________________________\n",
      "activation (Activation)      (None, 1)                 0         \n",
      "=================================================================\n",
      "Total params: 558,520\n",
      "Trainable params: 558,520\n",
      "Non-trainable params: 0\n",
      "_________________________________________________________________\n"
     ]
    }
   ],
   "source": [
    "model.summary()"
   ]
  },
  {
   "cell_type": "code",
   "execution_count": 9,
   "id": "7a8cd207-f264-4e48-b7d9-551f58cb92a9",
   "metadata": {},
   "outputs": [],
   "source": [
    "model.compile(loss='binary_crossentropy', optimizer='adam', metrics=['accuracy'])"
   ]
  },
  {
   "cell_type": "code",
   "execution_count": 10,
   "id": "052d5e9f-9cf6-4583-baad-62cee5345705",
   "metadata": {},
   "outputs": [
    {
     "name": "stdout",
     "output_type": "stream",
     "text": [
      "Epoch 1/10\n",
      "250/250 [==============================] - 14s 50ms/step - loss: 0.4574 - accuracy: 0.7669 - val_loss: 0.3404 - val_accuracy: 0.8484\n",
      "Epoch 2/10\n",
      "250/250 [==============================] - 12s 49ms/step - loss: 0.2915 - accuracy: 0.8781 - val_loss: 0.3273 - val_accuracy: 0.8554\n",
      "Epoch 3/10\n",
      "250/250 [==============================] - 13s 52ms/step - loss: 0.2480 - accuracy: 0.9002 - val_loss: 0.3347 - val_accuracy: 0.8568\n",
      "Epoch 4/10\n",
      "250/250 [==============================] - 13s 52ms/step - loss: 0.2118 - accuracy: 0.9180 - val_loss: 0.3439 - val_accuracy: 0.8542\n",
      "Epoch 5/10\n",
      "250/250 [==============================] - 13s 51ms/step - loss: 0.1757 - accuracy: 0.9339 - val_loss: 0.3970 - val_accuracy: 0.8454\n",
      "Epoch 6/10\n",
      "250/250 [==============================] - 13s 54ms/step - loss: 0.1513 - accuracy: 0.9434 - val_loss: 0.3794 - val_accuracy: 0.8480\n",
      "Epoch 7/10\n",
      "250/250 [==============================] - 14s 55ms/step - loss: 0.1265 - accuracy: 0.9536 - val_loss: 0.4173 - val_accuracy: 0.8444\n",
      "Epoch 8/10\n",
      "250/250 [==============================] - 14s 55ms/step - loss: 0.0996 - accuracy: 0.9642 - val_loss: 0.4566 - val_accuracy: 0.8431\n",
      "Epoch 9/10\n",
      "250/250 [==============================] - 13s 54ms/step - loss: 0.0876 - accuracy: 0.9680 - val_loss: 0.5087 - val_accuracy: 0.8433\n",
      "Epoch 10/10\n",
      "250/250 [==============================] - 14s 55ms/step - loss: 0.0700 - accuracy: 0.9761 - val_loss: 0.5712 - val_accuracy: 0.8419\n"
     ]
    }
   ],
   "source": [
    "hist = model.fit(x_train, y_train, batch_size=100, epochs=10,\n",
    "                 validation_data=(x_test, y_test))"
   ]
  },
  {
   "cell_type": "code",
   "execution_count": 11,
   "id": "5ce55b67-5d08-4dc7-9cc2-d995f4ecc9d2",
   "metadata": {},
   "outputs": [
    {
     "name": "stdout",
     "output_type": "stream",
     "text": [
      "782/782 [==============================] - 4s 5ms/step - loss: 0.5712 - accuracy: 0.8419\n",
      "Test Accuracy: 0.8419\n"
     ]
    }
   ],
   "source": [
    "print(\"Test Accuracy: %.4f\" % (model.evaluate(x_test, y_test)[1]))"
   ]
  },
  {
   "cell_type": "code",
   "execution_count": 13,
   "id": "d43ba445-c24f-475e-ad63-80a7793f31ae",
   "metadata": {},
   "outputs": [
    {
     "data": {
      "image/png": "[encoded data removed]",
      "text/plain": [
       "<Figure size 432x288 with 1 Axes>"
      ]
     },
     "metadata": {
      "needs_background": "light"
     },
     "output_type": "display_data"
    }
   ],
   "source": [
    "y_vloss = hist.history['val_loss']\n",
    "y_loss = hist.history['loss']\n",
    "\n",
    "x_len = np.arange(len(y_loss))\n",
    "plt.plot(x_len, y_vloss, marker='.', c='red', label='Testset_loss')\n",
    "plt.plot(x_len, y_loss, marker='.', c='blue', label='Trainset_loss')\n",
    "plt.legend()\n",
    "plt.grid()\n",
    "plt.xlabel('epoch')\n",
    "plt.ylabel('loss')\n",
    "plt.show()"
   ]
  },
  {
   "cell_type": "code",
   "execution_count": null,
   "id": "ba4cc7e5-f847-440c-9b5c-346790c790fe",
   "metadata": {},
   "outputs": [],
   "source": []
  }
 ],
 "metadata": {
  "kernelspec": {
   "display_name": "Python 3 (ipykernel)",
   "language": "python",
   "name": "python3"
  },
  "language_info": {
   "codemirror_mode": {
    "name": "ipython",
    "version": 3
   },
   "file_extension": ".py",
   "mimetype": "text/x-python",
   "name": "python",
   "nbconvert_exporter": "python",
   "pygments_lexer": "ipython3",
   "version": "3.9.6"
  }
 },
 "nbformat": 4,
 "nbformat_minor": 5
}
