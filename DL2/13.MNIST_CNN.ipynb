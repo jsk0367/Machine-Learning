{
 "cells": [
  {
   "cell_type": "code",
   "execution_count": 1,
   "id": "7ba97e02-a4ed-4c3d-b77c-fbd8d7eb65d2",
   "metadata": {},
   "outputs": [],
   "source": [
    "from tensorflow.keras.datasets import mnist\n",
    "from tensorflow.keras import utils\n",
    "from tensorflow.keras.models import Sequential\n",
    "from tensorflow.keras.layers import Dense, Dropout, Flatten, Conv2D, MaxPooling2D\n",
    "from tensorflow.keras.callbacks import ModelCheckpoint, EarlyStopping\n",
    "import matplotlib.pyplot as plt\n",
    "import numpy as np\n",
    "import os\n",
    "import tensorflow as tf"
   ]
  },
  {
   "cell_type": "code",
   "execution_count": 2,
   "id": "04187470-1136-4bef-9734-47d2f661cf1a",
   "metadata": {},
   "outputs": [],
   "source": [
    "# 데이터 전처리\n",
    "\n",
    "(X_train, Y_train), (X_test, Y_test) = mnist.load_data()\n",
    "X_train = X_train.reshape(X_train.shape[0], 28, 28, 1).astype(float) /255\n",
    "X_test = X_test.reshape(X_test.shape[0], 28, 28, 1).astype(float) /255\n",
    "# 단색(Gray) : 단색이기 떄문에 끝에가 1, 컬러라면 RGB 이기 때문에 3dmf TJdnsek. \n",
    "# shape[0] 은 6만개 \n",
    "\n",
    "# 타겟값 설정\n",
    "Y_train = utils.to_categorical(Y_train)\n",
    "Y_test = utils.to_categorical(Y_test)"
   ]
  },
  {
   "cell_type": "markdown",
   "id": "5e9c0479-1682-44fa-9a99-8c8f9bb7d435",
   "metadata": {},
   "source": [
    "맥스 풀링 참고 : https://thebook.io/080228/part05/ch16/05/\n",
    "<중요한 것 2가지>\n",
    "1. 자체 데이터는 이미지인데, 그 안에서 가장 큰값을 취한다는 것은 그 안에서 가장 대표되는 값을 취한다는 뜻 \n",
    "    - 즉, 특징을 고스란히 뽑겠다는 뜻\n",
    "2. 특징만 뽑으니, 이미지 가로세로 길이가 반으로 줄어든다. \n",
    "     - 계산량을 줄이고자 하는 목적도 있음\n",
    "     \n",
    "- 즉, 특징은 가져가면서 (잃어버리지 않게) 계산량을 줄이고자 할 떄 쓰는 것이 맥스 풀링이다 "
   ]
  },
  {
   "cell_type": "code",
   "execution_count": 3,
   "id": "c0841359-4fda-4ba3-bfb2-80df131a389a",
   "metadata": {},
   "outputs": [],
   "source": [
    "# 모델 쌓기\n",
    "\n",
    "model = Sequential()\n",
    "model.add(Conv2D(32, kernel_size=(3,3), input_shape=(28,28,1), activation='relu'))\n",
    "# Conv2D : keras에서 제공하는 2차원\n",
    "# Conv2D(32, ) : 그림이 1장 들어오면 32장으로 만들겠다는 의미\n",
    "\n",
    "# CNN 에서는 마스크값이 가중치고, \n",
    "# bias 도 존재. 파이아스 파라미터도 32개 \n",
    "\n",
    "model.add(Conv2D(64, kernel_size=(3,3), activation='relu')) \n",
    "# 앞쪽에서 출력되는 것인 input shape 이기 떄문에, 따로 input_shape()을 줄 필요가 없다 \n",
    "# 이미지 한 장을 64개로 만든다는 뜻, 새로 들어온 32개를 64개로 만든다는 뜻이 아니다 \n",
    "model.add(MaxPooling2D(pool_size=2))\n",
    "model.add(Dropout(0.25)) # 은닉층 가중치의 hidden 요솔 중 25% 를 무작위로 선택해서 꺼버리겠다는 뜻 \n",
    "model.add(Flatten())\n",
    "model.add(Dense(128, activation = 'relu'))\n",
    "model.add(Dropout(0.5))\n",
    "model.add(Dense(10, activation = 'softmax'))"
   ]
  },
  {
   "cell_type": "code",
   "execution_count": 4,
   "id": "9efdaf0e-66a1-41d2-b4f4-a7fdd94c909d",
   "metadata": {},
   "outputs": [
    {
     "name": "stdout",
     "output_type": "stream",
     "text": [
      "Model: \"sequential\"\n",
      "_________________________________________________________________\n",
      "Layer (type)                 Output Shape              Param #   \n",
      "=================================================================\n",
      "conv2d (Conv2D)              (None, 26, 26, 32)        320       \n",
      "_________________________________________________________________\n",
      "conv2d_1 (Conv2D)            (None, 24, 24, 64)        18496     \n",
      "_________________________________________________________________\n",
      "max_pooling2d (MaxPooling2D) (None, 12, 12, 64)        0         \n",
      "_________________________________________________________________\n",
      "dropout (Dropout)            (None, 12, 12, 64)        0         \n",
      "_________________________________________________________________\n",
      "flatten (Flatten)            (None, 9216)              0         \n",
      "_________________________________________________________________\n",
      "dense (Dense)                (None, 128)               1179776   \n",
      "_________________________________________________________________\n",
      "dropout_1 (Dropout)          (None, 128)               0         \n",
      "_________________________________________________________________\n",
      "dense_1 (Dense)              (None, 10)                1290      \n",
      "=================================================================\n",
      "Total params: 1,199,882\n",
      "Trainable params: 1,199,882\n",
      "Non-trainable params: 0\n",
      "_________________________________________________________________\n"
     ]
    }
   ],
   "source": [
    "model.summary()"
   ]
  },
  {
   "cell_type": "code",
   "execution_count": 5,
   "id": "334bb2b0-513a-4e0e-b11c-ed88d5810278",
   "metadata": {},
   "outputs": [
    {
     "name": "stdout",
     "output_type": "stream",
     "text": [
      "1199882\n"
     ]
    }
   ],
   "source": [
    "print (320+18496+1179776+1290)"
   ]
  },
  {
   "cell_type": "code",
   "execution_count": 6,
   "id": "f8c5b0b4-3daf-4440-b46e-c14c35085516",
   "metadata": {},
   "outputs": [],
   "source": [
    "model.compile(loss='categorical_crossentropy', optimizer='adam', metrics=['accuracy'])"
   ]
  },
  {
   "cell_type": "code",
   "execution_count": 7,
   "id": "7559e8ca-9206-4be6-9027-0659439d8f97",
   "metadata": {},
   "outputs": [],
   "source": [
    "from tensorflow.keras.callbacks import ModelCheckpoint, EarlyStopping\n",
    "import os\n",
    "\n",
    "MODEL_DIR = './model/'\n",
    "if not os.path.exists(MODEL_DIR) :  # 같은 파일명이 존재하는지 확인\n",
    "    os.mkdir(MODEL_DIR)   # 모델 생성\n",
    "    \n",
    "\n",
    "modelpath = './model/{epoch:02d}-{val_loss:.4f}.hdf5'\n",
    "checkpointer = ModelCheckpoint(filepath=modelpath, monitor='val_loss', verbose=1, save_best_only=True) # 체크포인트 생성, 무엇을 체크할 것인지 지정(mointor)\n",
    "\n",
    "\n",
    "early_stopping = EarlyStopping(monitor='val_loss', patience=10)\n"
   ]
  },
  {
   "cell_type": "code",
   "execution_count": 8,
   "id": "80a87166-88fc-419c-840d-e3e0dc531823",
   "metadata": {},
   "outputs": [
    {
     "name": "stdout",
     "output_type": "stream",
     "text": [
      "\n",
      "Epoch 00001: val_loss improved from inf to 0.06021, saving model to ./model\\01-0.0602.hdf5\n",
      "\n",
      "Epoch 00002: val_loss improved from 0.06021 to 0.03994, saving model to ./model\\02-0.0399.hdf5\n",
      "\n",
      "Epoch 00003: val_loss improved from 0.03994 to 0.03082, saving model to ./model\\03-0.0308.hdf5\n",
      "\n",
      "Epoch 00004: val_loss did not improve from 0.03082\n",
      "\n",
      "Epoch 00005: val_loss did not improve from 0.03082\n",
      "\n",
      "Epoch 00006: val_loss improved from 0.03082 to 0.02690, saving model to ./model\\06-0.0269.hdf5\n",
      "\n",
      "Epoch 00007: val_loss improved from 0.02690 to 0.02480, saving model to ./model\\07-0.0248.hdf5\n",
      "\n",
      "Epoch 00008: val_loss did not improve from 0.02480\n",
      "\n",
      "Epoch 00009: val_loss did not improve from 0.02480\n",
      "\n",
      "Epoch 00010: val_loss improved from 0.02480 to 0.02409, saving model to ./model\\10-0.0241.hdf5\n",
      "\n",
      "Epoch 00011: val_loss did not improve from 0.02409\n",
      "\n",
      "Epoch 00012: val_loss did not improve from 0.02409\n",
      "\n",
      "Epoch 00013: val_loss did not improve from 0.02409\n",
      "\n",
      "Epoch 00014: val_loss did not improve from 0.02409\n",
      "\n",
      "Epoch 00015: val_loss did not improve from 0.02409\n",
      "\n",
      "Epoch 00016: val_loss did not improve from 0.02409\n",
      "\n",
      "Epoch 00017: val_loss did not improve from 0.02409\n",
      "\n",
      "Epoch 00018: val_loss did not improve from 0.02409\n",
      "\n",
      "Epoch 00019: val_loss did not improve from 0.02409\n",
      "\n",
      "Epoch 00020: val_loss did not improve from 0.02409\n"
     ]
    }
   ],
   "source": [
    "history = model.fit(X_train, Y_train, validation_data = (X_test, Y_test),\n",
    "                   epochs=30, batch_size=200, verbose=0,\n",
    "                   callbacks=[early_stopping, checkpointer])"
   ]
  },
  {
   "cell_type": "code",
   "execution_count": 9,
   "id": "5a84a613-f4a1-4955-bf21-32416000c21a",
   "metadata": {},
   "outputs": [
    {
     "data": {
      "image/png": "[encoded data removed]",
      "text/plain": [
       "<Figure size 432x288 with 1 Axes>"
      ]
     },
     "metadata": {
      "needs_background": "light"
     },
     "output_type": "display_data"
    }
   ],
   "source": [
    "y_vloss = history.history['val_loss']\n",
    "y_loss = history.history['loss']\n",
    "\n",
    "x_len = np.arange(len(y_loss))\n",
    "plt.plot(x_len, y_vloss, marker='.', c='red', label='Testset_loss')\n",
    "plt.plot(x_len, y_loss, marker='.', c='blue', label='Trainset_loss')\n",
    "plt.legend(loc='upper right')\n",
    "plt.grid()\n",
    "plt.xlabel('epoch')\n",
    "plt.ylabel('loss')\n",
    "plt.show()"
   ]
  },
  {
   "cell_type": "code",
   "execution_count": 10,
   "id": "ce9c4b94-f994-4776-ac15-e9e519988c60",
   "metadata": {},
   "outputs": [
    {
     "name": "stdout",
     "output_type": "stream",
     "text": [
      "313/313 [==============================] - 3s 10ms/step - loss: 0.0310 - accuracy: 0.9922\n",
      "Test Accuracy: 0.9922\n"
     ]
    }
   ],
   "source": [
    "print(\"Test Accuracy: %.4f\" % (model.evaluate(X_test, Y_test)[1]))"
   ]
  },
  {
   "cell_type": "code",
   "execution_count": null,
   "id": "69fa1e9f-ce99-44de-9411-7adf2aac9451",
   "metadata": {},
   "outputs": [],
   "source": []
  }
 ],
 "metadata": {
  "kernelspec": {
   "display_name": "Python 3 (ipykernel)",
   "language": "python",
   "name": "python3"
  },
  "language_info": {
   "codemirror_mode": {
    "name": "ipython",
    "version": 3
   },
   "file_extension": ".py",
   "mimetype": "text/x-python",
   "name": "python",
   "nbconvert_exporter": "python",
   "pygments_lexer": "ipython3",
   "version": "3.9.6"
  }
 },
 "nbformat": 4,
 "nbformat_minor": 5
}
