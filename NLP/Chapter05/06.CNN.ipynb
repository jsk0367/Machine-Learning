{
 "cells": [
  {
   "cell_type": "code",
   "execution_count": 1,
   "id": "ae90dfef-c00c-4856-9ad8-dd0d111874a0",
   "metadata": {},
   "outputs": [],
   "source": [
    "#입력이 병렬로 들어와야한다"
   ]
  },
  {
   "cell_type": "code",
   "execution_count": 2,
   "id": "07408f69-b962-4b5a-95c5-0a9197cf99f8",
   "metadata": {},
   "outputs": [],
   "source": [
    "import os\n",
    "import json\n",
    "import numpy as np\n",
    "import pandas as pd\n",
    "import tensorflow as tf\n",
    "import matplotlib.pyplot as plt\n",
    "from tensorflow.keras import layers\n",
    "from tensorflow.keras.callbacks import EarlyStopping, ModelCheckpoint"
   ]
  },
  {
   "cell_type": "code",
   "execution_count": 3,
   "id": "e8ed42e1-9371-4b60-a02f-6bab421b2b25",
   "metadata": {},
   "outputs": [],
   "source": [
    "def plot_graphs(history, string):\n",
    "    plt.plot(history.history[string])\n",
    "    plt.plot(history.history['val_' + string], '')\n",
    "    plt.xlabel('Epochs')\n",
    "    plt.ylabel(string)\n",
    "    plt.legend([string, 'val_' + string])\n",
    "    plt.show()"
   ]
  },
  {
   "cell_type": "code",
   "execution_count": 4,
   "id": "96936804-bac8-48ac-983d-aa04ba0607be",
   "metadata": {},
   "outputs": [],
   "source": [
    "DATA_IN_PATH = './data_in/'\n",
    "DATA_OUT_PATH = './data_out/'\n",
    "\n",
    "TRAIN_Q1_DATA_FILE = 'train_q1.npy'\n",
    "TRAIN_Q2_DATA_FILE = 'train_q2.npy'\n",
    "TRAIN_LABEL_DATA_FILE = 'train_label.npy'\n",
    "DATA_CONFIGS = 'data_configs.json'"
   ]
  },
  {
   "cell_type": "code",
   "execution_count": 5,
   "id": "ddd31125-a46c-4f72-a16b-40a337527233",
   "metadata": {},
   "outputs": [],
   "source": [
    "SEED_NUM = 1234\n",
    "tf.random.set_seed(SEED_NUM)"
   ]
  },
  {
   "cell_type": "code",
   "execution_count": 6,
   "id": "44912091-6fcd-447f-b735-ef865ffc6cdc",
   "metadata": {},
   "outputs": [],
   "source": [
    "q1_data = np.load(open(DATA_IN_PATH + TRAIN_Q1_DATA_FILE, 'rb'))\n",
    "q2_data = np.load(open(DATA_IN_PATH + TRAIN_Q2_DATA_FILE, 'rb'))\n",
    "labels = np.load(open(DATA_IN_PATH + TRAIN_LABEL_DATA_FILE, 'rb'))\n",
    "prepro_configs = json.load(open(DATA_IN_PATH + DATA_CONFIGS, 'r'))"
   ]
  },
  {
   "cell_type": "code",
   "execution_count": 7,
   "id": "89cc0630-eaab-46fe-8c9e-4cf3f78d67bf",
   "metadata": {},
   "outputs": [],
   "source": [
    "#하이퍼 파라미터 정의\n",
    "model_name = 'cnn_similarity'\n",
    "BATCH_SIZE = 1024\n",
    "NUM_EPOCHS = 100\n",
    "VALID_SPLIT = 0.1\n",
    "MAX_LEN = 31\n",
    "\n",
    "kargs = {'model_name':model_name,\n",
    "         'vocab_size': prepro_configs['vocab_size'],\n",
    "         'word_embedding_dimension': 100,\n",
    "         'conv_num_filters': 300,\n",
    "         'conv_windows_size': 3,\n",
    "         'max_pool_seq_len': MAX_LEN,\n",
    "         'sent_embedding_dimension': 128,\n",
    "         'dropout_rate': 0.2,\n",
    "         'hidden_dimension': 200,\n",
    "         'output_dimension': 1}"
   ]
  },
  {
   "cell_type": "code",
   "execution_count": 8,
   "id": "c168e956-f56e-4975-bd01-b27122bbccc6",
   "metadata": {},
   "outputs": [],
   "source": [
    "class SentenceEmbedding(layers.Layer): #일부중간 레이어를 만들기때문에 레이서 상속\n",
    "    def __init__(self, **kargs):\n",
    "        super(SentenceEmbedding, self).__init__()\n",
    "        \n",
    "        self.conv = layers.Conv1D(kargs['conv_num_filters'],\n",
    "                                  kargs['conv_windows_size'],\n",
    "                                  activation='relu', padding='same')\n",
    "        self.max_pool = layers.MaxPool1D(kargs['max_pool_seq_len'],1)\n",
    "        self.dense = layers.Dense(kargs['sent_embedding_dimension'],activation='relu')\n",
    "   \n",
    "    def call(self, x):\n",
    "        x = self.conv(x)\n",
    "        x = self.max_pool(x)\n",
    "        x = self.dense(x)\n",
    "        \n",
    "        return tf.squeeze(x, 1)"
   ]
  },
  {
   "cell_type": "code",
   "execution_count": 9,
   "id": "eb414e64-568c-470c-9c2a-23372ca1e3ec",
   "metadata": {},
   "outputs": [],
   "source": [
    "class SentenceSimilarityModel(tf.keras.Model):\n",
    "    def __init__(self, **kargs):\n",
    "        super(SentenceSimilarityModel, self).__init__(name=kargs['model_name'])\n",
    "        self.word_embedding = layers.Embedding(kargs['vocab_size'] + 1,\n",
    "                                               kargs['word_embedding_dimension'])\n",
    "        self.base_encoder = SentenceEmbedding(**kargs)\n",
    "        self.hypo_encoder = SentenceEmbedding(**kargs)\n",
    "        self.dense = layers.Dense(kargs['hidden_dimension'], activation='relu')\n",
    "        self.logit = layers.Dense(kargs['output_dimension'], activation='sigmoid')\n",
    "        self.dropout = layers.Dropout(kargs['dropout_rate'])\n",
    "        \n",
    "    def call(self, x):\n",
    "        x1, x2 = x\n",
    "        b_x = self.word_embedding(x1)\n",
    "        h_x = self.word_embedding(x2)\n",
    "        b_x = self.dropout(b_x)\n",
    "        h_x = self.dropout(h_x)\n",
    "        \n",
    "        b_x = self.base_encoder(b_x)\n",
    "        h_x = self.hypo_encoder(h_x)\n",
    "        \n",
    "        e_x = tf.concat([b_x, h_x], -1)\n",
    "        e_x = self.dense(e_x)\n",
    "        e_x = self.dropout(e_x)\n",
    "        \n",
    "        return self.logit(e_x)"
   ]
  },
  {
   "cell_type": "code",
   "execution_count": 10,
   "id": "81028946-0af0-4586-93fd-aebf200fdebb",
   "metadata": {},
   "outputs": [],
   "source": [
    "model = SentenceSimilarityModel(**kargs)\n",
    "model.compile(optimizer=tf.keras.optimizers.Adam(1e-3),\n",
    "              loss=tf.keras.losses.BinaryCrossentropy(),\n",
    "              metrics=[tf.keras.metrics.BinaryAccuracy(name='accuracy')])"
   ]
  },
  {
   "cell_type": "code",
   "execution_count": 11,
   "id": "6e6fb5bb-a540-45af-beae-41a953b69be5",
   "metadata": {},
   "outputs": [
    {
     "name": "stdout",
     "output_type": "stream",
     "text": [
      "./data_out/cnn_similarity -- Folder already exists \n",
      "\n"
     ]
    }
   ],
   "source": [
    "earlystop_callback = EarlyStopping(monitor='val_accuracy', min_delta=0.0001, patience=3)\\\n",
    "\n",
    "checkpoint_path = DATA_OUT_PATH + model_name + '/weights.h5'\n",
    "checkpoint_dir = os.path.dirname(checkpoint_path)\n",
    "\n",
    "if os.path.exists(checkpoint_dir):\n",
    "    print('{} -- Folder already exists \\n'.format(checkpoint_dir))\n",
    "else:\n",
    "    os.makedirs(checkpoint_dir, exist_ok=True)\n",
    "    print('{} -- Folder already complete \\n'.format(checkpoint_dir))\n",
    "    \n",
    "cp_callback = ModelCheckpoint(checkpoint_path, monitor='val_accuracy', verbose=1,\n",
    "                              save_best_only=True, save_weights_only=True)"
   ]
  },
  {
   "cell_type": "code",
   "execution_count": 12,
   "id": "a0ce2c1a-2f44-4e72-8a23-84efb288aec6",
   "metadata": {},
   "outputs": [
    {
     "name": "stdout",
     "output_type": "stream",
     "text": [
      "Epoch 1/100\n",
      "263/263 [==============================] - ETA: 0s - loss: 0.5662 - accuracy: 0.7021\n",
      "Epoch 00001: val_accuracy improved from -inf to 0.70341, saving model to ./data_out/cnn_similarity\\weights.h5\n",
      "263/263 [==============================] - 108s 411ms/step - loss: 0.5662 - accuracy: 0.7021 - val_loss: 0.5396 - val_accuracy: 0.7034\n",
      "Epoch 2/100\n",
      "263/263 [==============================] - ETA: 0s - loss: 0.4763 - accuracy: 0.7712\n",
      "Epoch 00002: val_accuracy did not improve from 0.70341\n",
      "263/263 [==============================] - 106s 403ms/step - loss: 0.4763 - accuracy: 0.7712 - val_loss: 0.5816 - val_accuracy: 0.6913\n",
      "Epoch 3/100\n",
      "263/263 [==============================] - ETA: 0s - loss: 0.3900 - accuracy: 0.8213\n",
      "Epoch 00003: val_accuracy improved from 0.70341 to 0.74957, saving model to ./data_out/cnn_similarity\\weights.h5\n",
      "263/263 [==============================] - 103s 391ms/step - loss: 0.3900 - accuracy: 0.8213 - val_loss: 0.5747 - val_accuracy: 0.7496\n",
      "Epoch 4/100\n",
      "263/263 [==============================] - ETA: 0s - loss: 0.3075 - accuracy: 0.8640\n",
      "Epoch 00004: val_accuracy did not improve from 0.74957\n",
      "263/263 [==============================] - 105s 400ms/step - loss: 0.3075 - accuracy: 0.8640 - val_loss: 0.6923 - val_accuracy: 0.7282\n",
      "Epoch 5/100\n",
      "263/263 [==============================] - ETA: 0s - loss: 0.2527 - accuracy: 0.8912\n",
      "Epoch 00005: val_accuracy improved from 0.74957 to 0.75359, saving model to ./data_out/cnn_similarity\\weights.h5\n",
      "263/263 [==============================] - 105s 400ms/step - loss: 0.2527 - accuracy: 0.8912 - val_loss: 0.7540 - val_accuracy: 0.7536\n",
      "Epoch 6/100\n",
      "263/263 [==============================] - ETA: 0s - loss: 0.2201 - accuracy: 0.9065\n",
      "Epoch 00006: val_accuracy did not improve from 0.75359\n",
      "263/263 [==============================] - 107s 407ms/step - loss: 0.2201 - accuracy: 0.9065 - val_loss: 0.8498 - val_accuracy: 0.7529\n",
      "Epoch 7/100\n",
      "263/263 [==============================] - ETA: 0s - loss: 0.1976 - accuracy: 0.9165\n",
      "Epoch 00007: val_accuracy improved from 0.75359 to 0.76049, saving model to ./data_out/cnn_similarity\\weights.h5\n",
      "263/263 [==============================] - 106s 401ms/step - loss: 0.1976 - accuracy: 0.9165 - val_loss: 0.8875 - val_accuracy: 0.7605\n",
      "Epoch 8/100\n",
      "263/263 [==============================] - ETA: 0s - loss: 0.1802 - accuracy: 0.9244\n",
      "Epoch 00008: val_accuracy improved from 0.76049 to 0.76716, saving model to ./data_out/cnn_similarity\\weights.h5\n",
      "263/263 [==============================] - 112s 427ms/step - loss: 0.1802 - accuracy: 0.9244 - val_loss: 0.9209 - val_accuracy: 0.7672\n",
      "Epoch 9/100\n",
      "263/263 [==============================] - ETA: 0s - loss: 0.1687 - accuracy: 0.9288\n",
      "Epoch 00009: val_accuracy did not improve from 0.76716\n",
      "263/263 [==============================] - 107s 407ms/step - loss: 0.1687 - accuracy: 0.9288 - val_loss: 1.0249 - val_accuracy: 0.7568\n",
      "Epoch 10/100\n",
      "263/263 [==============================] - ETA: 0s - loss: 0.1595 - accuracy: 0.9327\n",
      "Epoch 00010: val_accuracy did not improve from 0.76716\n",
      "263/263 [==============================] - 105s 400ms/step - loss: 0.1595 - accuracy: 0.9327 - val_loss: 1.2066 - val_accuracy: 0.7344\n",
      "Epoch 11/100\n",
      "263/263 [==============================] - ETA: 0s - loss: 0.1520 - accuracy: 0.9356\n",
      "Epoch 00011: val_accuracy did not improve from 0.76716\n",
      "263/263 [==============================] - 100s 380ms/step - loss: 0.1520 - accuracy: 0.9356 - val_loss: 1.1295 - val_accuracy: 0.7653\n"
     ]
    }
   ],
   "source": [
    "history = model.fit((q1_data, q2_data), labels, batch_size = BATCH_SIZE,\n",
    "                    epochs=NUM_EPOCHS, validation_split=VALID_SPLIT,\n",
    "                    callbacks=[earlystop_callback, cp_callback])"
   ]
  },
  {
   "cell_type": "code",
   "execution_count": 13,
   "id": "c24e0635-7e80-441f-a838-0d372ea71de7",
   "metadata": {},
   "outputs": [
    {
     "data": {
      "image/png": "[encoded data removed]",
      "text/plain": [
       "<Figure size 432x288 with 1 Axes>"
      ]
     },
     "metadata": {
      "needs_background": "light"
     },
     "output_type": "display_data"
    }
   ],
   "source": [
    "plot_graphs(history,'loss')"
   ]
  },
  {
   "cell_type": "code",
   "execution_count": 14,
   "id": "3f250e21-f4f8-4a30-b04d-07fb7ac12ba2",
   "metadata": {},
   "outputs": [
    {
     "data": {
      "image/png": "[encoded data removed]",
      "text/plain": [
       "<Figure size 432x288 with 1 Axes>"
      ]
     },
     "metadata": {
      "needs_background": "light"
     },
     "output_type": "display_data"
    }
   ],
   "source": [
    "plot_graphs(history,'accuracy')"
   ]
  },
  {
   "cell_type": "code",
   "execution_count": 15,
   "id": "14f87b5c-58b0-42bc-ab92-adccb7221d20",
   "metadata": {},
   "outputs": [],
   "source": [
    "TEST_Q1_DATA_FILE = 'test_q1.npy'\n",
    "TEST_Q2_DATA_FILE = 'test_q2.npy'\n",
    "TEST_ID_DATA_FILE = 'test_id.npy'\n",
    "\n",
    "test_q1_data = np.load(open(DATA_IN_PATH + TEST_Q1_DATA_FILE, 'rb'))\n",
    "test_q2_data = np.load(open(DATA_IN_PATH + TEST_Q2_DATA_FILE, 'rb'))\n",
    "test_id_data = np.load(open(DATA_IN_PATH + TEST_ID_DATA_FILE, 'rb'), allow_pickle=True)"
   ]
  },
  {
   "cell_type": "code",
   "execution_count": 16,
   "id": "a5746658-8158-40b8-aff9-e0db5cbbb56a",
   "metadata": {},
   "outputs": [],
   "source": [
    "SAVE_FILE_NM = 'weights.h5'\n",
    "model.load_weights(os.path.join(DATA_OUT_PATH, model_name, SAVE_FILE_NM))"
   ]
  },
  {
   "cell_type": "code",
   "execution_count": 17,
   "id": "2743f203-bd95-48c0-9472-9e6554f49248",
   "metadata": {},
   "outputs": [],
   "source": [
    "predictions = model.predict((test_q1_data, test_q2_data), batch_size=BATCH_SIZE)\n",
    "predictions = predictions.squeeze(-1)"
   ]
  },
  {
   "cell_type": "code",
   "execution_count": 18,
   "id": "9b30cc29-3540-4de1-b2a8-4c3602bbcbb8",
   "metadata": {},
   "outputs": [],
   "source": [
    "output = pd.DataFrame( data={\"test_id\":test_id_data, \"is_duplicate\": list(predictions)} )\n",
    "output.to_csv(DATA_OUT_PATH + \"cnn_predict.csv\", index=False, quoting=3)"
   ]
  },
  {
   "cell_type": "code",
   "execution_count": null,
   "id": "971db952-371b-4786-b0f6-0fb28ceb6114",
   "metadata": {},
   "outputs": [],
   "source": []
  }
 ],
 "metadata": {
  "kernelspec": {
   "display_name": "Python 3 (ipykernel)",
   "language": "python",
   "name": "python3"
  },
  "language_info": {
   "codemirror_mode": {
    "name": "ipython",
    "version": 3
   },
   "file_extension": ".py",
   "mimetype": "text/x-python",
   "name": "python",
   "nbconvert_exporter": "python",
   "pygments_lexer": "ipython3",
   "version": "3.8.11"
  }
 },
 "nbformat": 4,
 "nbformat_minor": 5
}
