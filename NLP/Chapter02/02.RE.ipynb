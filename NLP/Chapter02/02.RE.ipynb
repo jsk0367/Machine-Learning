{
 "cells": [
  {
   "cell_type": "markdown",
   "id": "26f823fd-f5a0-43d5-b13c-722b93ae62e3",
   "metadata": {},
   "source": [
    "### 대괄호([]) 사이의 문자와 매칭하라는 의미\n",
    "- 대괄호 사이의 문자는 기본적으로 OR 조합\n",
    "- [abc] 해당 텍스트에 a 또는 b 또는 c라는 문자가 있는지 검사\n",
    "- [Tt]om Tom또는 tom을 찾음"
   ]
  },
  {
   "cell_type": "code",
   "execution_count": 1,
   "id": "1c3adbff-6bc5-4ee1-9a5b-19bfa2bf3dc6",
   "metadata": {},
   "outputs": [],
   "source": [
    "import re"
   ]
  },
  {
   "cell_type": "code",
   "execution_count": 2,
   "id": "769dba99-caf6-4c06-855a-f47cf871237f",
   "metadata": {},
   "outputs": [
    {
     "name": "stdout",
     "output_type": "stream",
     "text": [
      "<re.Match object; span=(0, 3), match='Tom'>\n"
     ]
    }
   ],
   "source": [
    "p = re.compile(r'[Tt]om')\n",
    "result = p.match('Tom is a studenst')\n",
    "print(result)"
   ]
  },
  {
   "cell_type": "code",
   "execution_count": 3,
   "id": "88fe3815-0f7a-4550-8cdb-1b229f2e7022",
   "metadata": {},
   "outputs": [
    {
     "name": "stdout",
     "output_type": "stream",
     "text": [
      "None\n"
     ]
    }
   ],
   "source": [
    "result = p.match('My name is Tom')\n",
    "print(result)"
   ]
  },
  {
   "cell_type": "code",
   "execution_count": 5,
   "id": "526b7c17-c813-4a1d-8eed-ea363570db06",
   "metadata": {},
   "outputs": [
    {
     "name": "stdout",
     "output_type": "stream",
     "text": [
      "None\n"
     ]
    }
   ],
   "source": [
    "result = re.match('[A-Za-z][0-9]','12345')\n",
    "print(result)"
   ]
  },
  {
   "cell_type": "code",
   "execution_count": 6,
   "id": "0dac233a-20a6-4ed4-a476-cf4123f536ba",
   "metadata": {},
   "outputs": [
    {
     "name": "stdout",
     "output_type": "stream",
     "text": [
      "<re.Match object; span=(0, 2), match='k1'>\n"
     ]
    }
   ],
   "source": [
    "result = re.match('[A-Za-z][0-9]','k12345')\n",
    "print(result)"
   ]
  },
  {
   "cell_type": "code",
   "execution_count": 7,
   "id": "6ce3db04-13f3-43ff-9033-24bde24c1b1b",
   "metadata": {},
   "outputs": [
    {
     "name": "stdout",
     "output_type": "stream",
     "text": [
      "None\n"
     ]
    }
   ],
   "source": [
    "result = re.match('[A-Za-z][0-9]','ka12345')\n",
    "print(result)"
   ]
  },
  {
   "cell_type": "markdown",
   "id": "4dc8106a-357c-42d5-bde5-186ed60048cc",
   "metadata": {},
   "source": [
    "### 반복 메타 문자\n",
    "- 휴대폰 번호  \n",
    "- 위의 방식으로 휴대전화 번호 매칭 방법  \n",
    "[0-9][0-9][0-9]-[0-9][0-9][0-9][0-9]-[0-9][0-9][0-9][0-9]"
   ]
  },
  {
   "cell_type": "markdown",
   "id": "c513b9a7-e171-4029-bf30-be78d4f81ad7",
   "metadata": {},
   "source": [
    "- '+' 한 개 이상 출현\n",
    "- [0-9]+-[0-9]+-[0-9]+\n",
    "하지만 여전히 문제, 기존 3-3-4자리 사용하는 번호도 존재"
   ]
  },
  {
   "cell_type": "markdown",
   "id": "6ac04dfb-1576-458e-a046-c76a411289a0",
   "metadata": {},
   "source": [
    "- {} 는 반복 횟수를 지정\n",
    "- {0,} - 0번 이상 출현\n",
    "- {1,} - 1번 이상 출현\n",
    "- {1,3} - 1번에서 3번까지 출력\n",
    "- 위 휴대전화 번호를 아래와같이 변경\n",
    "- [0-9]{3}-[0-9]{3,4}-[0-9]{4}\n",
    "- 국번은 010, 011, 019, 017, 018, 016존재\n",
    "- 01[016789]-[0-9]{3,4}-[0-9]{4}"
   ]
  },
  {
   "cell_type": "code",
   "execution_count": 8,
   "id": "ab8db18b-4573-4d11-bf27-9b620d4cceb5",
   "metadata": {},
   "outputs": [
    {
     "name": "stdout",
     "output_type": "stream",
     "text": [
      "<re.Match object; span=(0, 13), match='010-1234-9875'>\n"
     ]
    }
   ],
   "source": [
    "p = re.compile(r'01[016789]-[0-9]{3,4}-[0-9]{4}')\n",
    "result = p.match('010-1234-9875')\n",
    "print(result)"
   ]
  },
  {
   "cell_type": "code",
   "execution_count": 9,
   "id": "6646ff20-d92a-4933-bcf6-47d5f31093b0",
   "metadata": {},
   "outputs": [
    {
     "name": "stdout",
     "output_type": "stream",
     "text": [
      "None\n"
     ]
    }
   ],
   "source": [
    "result = p.match('010-1234-9y75')\n",
    "print(result)"
   ]
  },
  {
   "cell_type": "code",
   "execution_count": 10,
   "id": "195f37ee-4b3c-41d2-b706-374ce138f907",
   "metadata": {},
   "outputs": [
    {
     "name": "stdout",
     "output_type": "stream",
     "text": [
      "None\n"
     ]
    }
   ],
   "source": [
    "result = p.match('015-1234-9875')\n",
    "print(result)"
   ]
  },
  {
   "cell_type": "markdown",
   "id": "94d1fb0c-7042-4d86-a7e7-ee4d4a8505fc",
   "metadata": {},
   "source": [
    "### '*' 0번 이상 반복"
   ]
  },
  {
   "cell_type": "code",
   "execution_count": 11,
   "id": "9342d04a-7c1d-432a-baaa-61a6e85e0d2e",
   "metadata": {},
   "outputs": [
    {
     "name": "stdout",
     "output_type": "stream",
     "text": [
      "<re.Match object; span=(0, 7), match='abc3def'>\n"
     ]
    }
   ],
   "source": [
    "p = re.compile(r'abc[0-9]*def')\n",
    "result = p.match('abc3def')\n",
    "print(result)"
   ]
  },
  {
   "cell_type": "code",
   "execution_count": 12,
   "id": "34c85b19-2a26-42e5-bec3-ba6ffe417d5b",
   "metadata": {},
   "outputs": [
    {
     "name": "stdout",
     "output_type": "stream",
     "text": [
      "<re.Match object; span=(0, 9), match='abc456def'>\n"
     ]
    }
   ],
   "source": [
    "result = p.match('abc456def')\n",
    "print(result)"
   ]
  },
  {
   "cell_type": "code",
   "execution_count": 13,
   "id": "c21deaa0-7964-462a-a2b0-4663c63f8ba8",
   "metadata": {},
   "outputs": [
    {
     "name": "stdout",
     "output_type": "stream",
     "text": [
      "<re.Match object; span=(0, 6), match='abcdef'>\n"
     ]
    }
   ],
   "source": [
    "result = p.match('abcdef')\n",
    "print(result)"
   ]
  },
  {
   "cell_type": "code",
   "execution_count": 14,
   "id": "faf21fd7-c278-4f6e-a28d-16a2c110b581",
   "metadata": {},
   "outputs": [
    {
     "name": "stdout",
     "output_type": "stream",
     "text": [
      "<re.Match object; span=(0, 4), match='1abc'>\n"
     ]
    }
   ],
   "source": [
    "p = re.compile(r'[^5]abc') #5만아니면 된다\n",
    "result= p.match('1abc')\n",
    "print(result)"
   ]
  },
  {
   "cell_type": "code",
   "execution_count": 15,
   "id": "8763f635-c5f3-4439-a2ad-a24fd64193fb",
   "metadata": {},
   "outputs": [
    {
     "name": "stdout",
     "output_type": "stream",
     "text": [
      "None\n"
     ]
    }
   ],
   "source": [
    "result= p.match('abc')\n",
    "print(result)"
   ]
  },
  {
   "cell_type": "code",
   "execution_count": 16,
   "id": "eca8ac96-a45c-49bf-9c9d-ad7f4a4ac9f6",
   "metadata": {},
   "outputs": [
    {
     "name": "stdout",
     "output_type": "stream",
     "text": [
      "None\n"
     ]
    }
   ],
   "source": [
    "result= p.match('234abc')\n",
    "print(result)"
   ]
  },
  {
   "cell_type": "code",
   "execution_count": 17,
   "id": "1975f857-9c0e-4628-bf8e-d899d68f9615",
   "metadata": {},
   "outputs": [
    {
     "name": "stdout",
     "output_type": "stream",
     "text": [
      "<re.Match object; span=(0, 4), match='tabc'>\n"
     ]
    }
   ],
   "source": [
    "result= p.match('tabc')\n",
    "print(result)"
   ]
  },
  {
   "cell_type": "code",
   "execution_count": 18,
   "id": "7a516962-f36e-490f-a1a4-19e798ce3742",
   "metadata": {},
   "outputs": [
    {
     "name": "stdout",
     "output_type": "stream",
     "text": [
      "None\n"
     ]
    }
   ],
   "source": [
    "result= p.match('5abc')\n",
    "print(result)"
   ]
  },
  {
   "cell_type": "code",
   "execution_count": 19,
   "id": "2cb12db8-4a77-48ce-9509-67e6be710ccb",
   "metadata": {},
   "outputs": [
    {
     "name": "stdout",
     "output_type": "stream",
     "text": [
      "<re.Match object; span=(0, 6), match='abcdef'>\n"
     ]
    }
   ],
   "source": [
    "p = re.compile(r'abc[0-9]?def')\n",
    "result = p.match('abcdef')\n",
    "print(result)"
   ]
  },
  {
   "cell_type": "code",
   "execution_count": 20,
   "id": "66c0d895-8444-4810-ac71-c3c5ba22dcef",
   "metadata": {},
   "outputs": [
    {
     "name": "stdout",
     "output_type": "stream",
     "text": [
      "<re.Match object; span=(0, 7), match='abc4def'>\n"
     ]
    }
   ],
   "source": [
    "result = p.match('abc4def')\n",
    "print(result)"
   ]
  },
  {
   "cell_type": "code",
   "execution_count": 21,
   "id": "5510537b-4d64-4028-9213-77b1f006d8ae",
   "metadata": {},
   "outputs": [
    {
     "name": "stdout",
     "output_type": "stream",
     "text": [
      "None\n"
     ]
    }
   ],
   "source": [
    "result = p.match('abc48def')\n",
    "print(result)"
   ]
  },
  {
   "cell_type": "code",
   "execution_count": 22,
   "id": "5a31f877-a825-4ae2-b31d-9114732e3556",
   "metadata": {},
   "outputs": [
    {
     "name": "stdout",
     "output_type": "stream",
     "text": [
      "<re.Match object; span=(0, 6), match='3defr9'>\n"
     ]
    }
   ],
   "source": [
    "p = re.compile(r'^3[A-Za-z]+9$')#3으로 시작,맨 마지막은 9로 끝나야 한다\n",
    "print(p.match('3defr9'))"
   ]
  },
  {
   "cell_type": "code",
   "execution_count": 23,
   "id": "4be131d3-8939-4800-9052-e796e0434707",
   "metadata": {},
   "outputs": [
    {
     "name": "stdout",
     "output_type": "stream",
     "text": [
      "None\n"
     ]
    }
   ],
   "source": [
    "print(p.match('defr9'))"
   ]
  },
  {
   "cell_type": "code",
   "execution_count": 24,
   "id": "de4cab23-d10b-4526-9e56-0f0531250e72",
   "metadata": {},
   "outputs": [
    {
     "name": "stdout",
     "output_type": "stream",
     "text": [
      "None\n"
     ]
    }
   ],
   "source": [
    "print(p.match('34defr9'))"
   ]
  },
  {
   "cell_type": "code",
   "execution_count": 25,
   "id": "ac759782-ad5d-47fd-b28d-d80646444608",
   "metadata": {},
   "outputs": [
    {
     "name": "stdout",
     "output_type": "stream",
     "text": [
      "None\n"
     ]
    }
   ],
   "source": [
    "print(p.match('3defr98'))"
   ]
  },
  {
   "cell_type": "code",
   "execution_count": 26,
   "id": "fa3373c4-4592-4d6a-951f-8b71802a5d20",
   "metadata": {},
   "outputs": [
    {
     "name": "stdout",
     "output_type": "stream",
     "text": [
      "<re.Match object; span=(0, 3), match='4p8'>\n"
     ]
    }
   ],
   "source": [
    "p = re.compile(r'[0-9].8$')#무엇이오든 1개가 오고 8로 끝나라\n",
    "print(p.match('4p8'))"
   ]
  },
  {
   "cell_type": "code",
   "execution_count": 27,
   "id": "49900626-1799-44dd-8672-7f50b5219fca",
   "metadata": {},
   "outputs": [
    {
     "name": "stdout",
     "output_type": "stream",
     "text": [
      "<re.Match object; span=(0, 3), match='448'>\n"
     ]
    }
   ],
   "source": [
    "print(p.match('448'))"
   ]
  },
  {
   "cell_type": "code",
   "execution_count": 28,
   "id": "fc7d9b69-5b42-4854-8122-11383d887376",
   "metadata": {},
   "outputs": [
    {
     "name": "stdout",
     "output_type": "stream",
     "text": [
      "None\n"
     ]
    }
   ],
   "source": [
    "print(p.match('48'))"
   ]
  },
  {
   "cell_type": "code",
   "execution_count": 29,
   "id": "2c670424-6725-40db-8452-29deb024588c",
   "metadata": {},
   "outputs": [
    {
     "name": "stdout",
     "output_type": "stream",
     "text": [
      "<re.Match object; span=(0, 4), match='1abc'>\n"
     ]
    }
   ],
   "source": [
    "p = re.compile(r'\\dabc')#숫자가 한개오고, 문자가 온다\n",
    "print(p.match('1abc'))"
   ]
  },
  {
   "cell_type": "code",
   "execution_count": 30,
   "id": "44aececc-564f-4a33-b2cd-f3d06f144f20",
   "metadata": {},
   "outputs": [
    {
     "name": "stdout",
     "output_type": "stream",
     "text": [
      "None\n"
     ]
    }
   ],
   "source": [
    "print(p.match('122abc'))"
   ]
  },
  {
   "cell_type": "code",
   "execution_count": 31,
   "id": "be515b62-8696-4194-b267-300f742e5fb5",
   "metadata": {},
   "outputs": [
    {
     "name": "stdout",
     "output_type": "stream",
     "text": [
      "None\n"
     ]
    }
   ],
   "source": [
    "print(p.match('ㅂabc'))"
   ]
  },
  {
   "cell_type": "code",
   "execution_count": 32,
   "id": "699c5bc4-2bb1-4bb2-8232-8e82ce1d8187",
   "metadata": {},
   "outputs": [
    {
     "name": "stdout",
     "output_type": "stream",
     "text": [
      "<re.Match object; span=(0, 4), match='a123'>\n"
     ]
    }
   ],
   "source": [
    "p = re.compile(r'\\D123')\n",
    "print(p.match('a123'))"
   ]
  },
  {
   "cell_type": "code",
   "execution_count": 33,
   "id": "1ce32e2e-2cf7-45c3-90f4-896d4d379a6e",
   "metadata": {},
   "outputs": [
    {
     "name": "stdout",
     "output_type": "stream",
     "text": [
      "None\n"
     ]
    }
   ],
   "source": [
    "print(p.match('5123'))"
   ]
  },
  {
   "cell_type": "code",
   "execution_count": 37,
   "id": "34ae2b86-1a0e-48ab-b784-6d179f8f39fb",
   "metadata": {},
   "outputs": [
    {
     "name": "stdout",
     "output_type": "stream",
     "text": [
      "<re.Match object; span=(0, 6), match='abc 76'>\n"
     ]
    }
   ],
   "source": [
    "p = re.compile(r'abc\\s[0-9]+')\n",
    "print(p.match('abc 76'))\n",
    "#스페이스가 있거나 다른 아무거나 와야한다"
   ]
  },
  {
   "cell_type": "code",
   "execution_count": 38,
   "id": "c96cc9b5-81a2-47df-bfc4-0cde738f0a5d",
   "metadata": {},
   "outputs": [
    {
     "name": "stdout",
     "output_type": "stream",
     "text": [
      "None\n"
     ]
    }
   ],
   "source": [
    "print(p.match('abc76'))"
   ]
  },
  {
   "cell_type": "code",
   "execution_count": 41,
   "id": "b19ea4c2-f34b-4d1c-8d0c-6646bb1548f6",
   "metadata": {},
   "outputs": [
    {
     "name": "stdout",
     "output_type": "stream",
     "text": [
      "None\n"
     ]
    }
   ],
   "source": [
    "p = re.compile(r'abc\\S[0-9]+')\n",
    "print(p.match('abc 76'))"
   ]
  },
  {
   "cell_type": "code",
   "execution_count": 42,
   "id": "7244f116-1e95-43c9-8e99-5fddd6d27533",
   "metadata": {},
   "outputs": [
    {
     "name": "stdout",
     "output_type": "stream",
     "text": [
      "<re.Match object; span=(0, 6), match='abcp76'>\n"
     ]
    }
   ],
   "source": [
    "print(p.match('abcp76'))"
   ]
  },
  {
   "cell_type": "code",
   "execution_count": 43,
   "id": "e7550b7e-28dc-46f6-8f69-8efce9486b8e",
   "metadata": {},
   "outputs": [
    {
     "name": "stdout",
     "output_type": "stream",
     "text": [
      "<re.Match object; span=(0, 7), match='f948484'>\n"
     ]
    }
   ],
   "source": [
    "p = re.compile(r'\\w[0-9]+')\n",
    "print(p.match('f948484'))"
   ]
  },
  {
   "cell_type": "code",
   "execution_count": 45,
   "id": "7c05fa97-be00-4e5e-9514-c5b448078661",
   "metadata": {},
   "outputs": [
    {
     "name": "stdout",
     "output_type": "stream",
     "text": [
      "None\n"
     ]
    }
   ],
   "source": [
    "print(p.match('-f948484')) #알파벳이 아닌숫자가 들어가면 매칭이 안됨"
   ]
  },
  {
   "cell_type": "code",
   "execution_count": 49,
   "id": "0cf27d15-4c16-4fc9-a945-8d1ca130579a",
   "metadata": {},
   "outputs": [
    {
     "name": "stdout",
     "output_type": "stream",
     "text": [
      "<re.Match object; span=(0, 7), match='-948484'>\n"
     ]
    }
   ],
   "source": [
    "p = re.compile(r'\\W[0-9]+')\n",
    "print(p.match('-948484'))"
   ]
  },
  {
   "cell_type": "code",
   "execution_count": 50,
   "id": "3cc7541c-d184-4e73-b8b1-ca5525722be8",
   "metadata": {},
   "outputs": [
    {
     "name": "stdout",
     "output_type": "stream",
     "text": [
      "None\n"
     ]
    }
   ],
   "source": [
    "print(p.match('r948484'))"
   ]
  },
  {
   "cell_type": "code",
   "execution_count": null,
   "id": "91de9d59-1bf9-43b0-828c-580431b3c911",
   "metadata": {},
   "outputs": [],
   "source": [
    "^[\\w.%+\\-]+@[\\w.\\-]+\\.[A-Za-z]{2,3}$"
   ]
  }
 ],
 "metadata": {
  "kernelspec": {
   "display_name": "Python 3 (ipykernel)",
   "language": "python",
   "name": "python3"
  },
  "language_info": {
   "codemirror_mode": {
    "name": "ipython",
    "version": 3
   },
   "file_extension": ".py",
   "mimetype": "text/x-python",
   "name": "python",
   "nbconvert_exporter": "python",
   "pygments_lexer": "ipython3",
   "version": "3.9.6"
  }
 },
 "nbformat": 4,
 "nbformat_minor": 5
}
