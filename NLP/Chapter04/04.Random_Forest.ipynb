{
 "cells": [
  {
   "cell_type": "code",
   "execution_count": 1,
   "id": "eaf8d911-afb7-4253-bbdd-01035451e93b",
   "metadata": {},
   "outputs": [],
   "source": [
    "import pandas as pd\n",
    "import numpy as np\n",
    "import os\n",
    "from sklearn.feature_extraction.text import CountVectorizer"
   ]
  },
  {
   "cell_type": "code",
   "execution_count": 2,
   "id": "82232a2f-fe15-4c83-89f2-bdb840c249ed",
   "metadata": {},
   "outputs": [],
   "source": [
    "DATA_IN_PATH = './data_in/'\n",
    "DATA_OUT_PATH = './data_out/'\n",
    "TRAIN_CLEAN_DATA = 'train_clean1.csv'\n",
    "\n",
    "train_data = pd.read_csv(DATA_IN_PATH + TRAIN_CLEAN_DATA)"
   ]
  },
  {
   "cell_type": "code",
   "execution_count": 3,
   "id": "9cb00157-a9c4-426f-b77b-0f0bcdff2610",
   "metadata": {},
   "outputs": [],
   "source": [
    "reviews = list(train_data['review'])\n",
    "y = np.array(train_data['sentiment'])"
   ]
  },
  {
   "cell_type": "code",
   "execution_count": 4,
   "id": "1f752199-2898-48bd-9965-2716c6c721fb",
   "metadata": {},
   "outputs": [],
   "source": [
    "vectorizer = CountVectorizer(analyzer='word',max_features=5000)#워드 단위로 나눈다\n",
    "train_data_features = vectorizer.fit_transform(reviews)\n"
   ]
  },
  {
   "cell_type": "code",
   "execution_count": 5,
   "id": "75482679-f566-4dc2-bc4c-ef39d85963c9",
   "metadata": {},
   "outputs": [
    {
     "name": "stdout",
     "output_type": "stream",
     "text": [
      "(25000, 5000)\n"
     ]
    }
   ],
   "source": [
    "print(train_data_features.shape)"
   ]
  },
  {
   "cell_type": "code",
   "execution_count": 6,
   "id": "0a10b483-3e46-414f-aa15-662054b0f091",
   "metadata": {},
   "outputs": [],
   "source": [
    "from sklearn.model_selection import train_test_split\n",
    "\n",
    "RANDOM_SEED = 42\n",
    "TEST_SPLIT = 0.2\n",
    "\n",
    "x_train, x_eval, y_train, y_eval = \\\n",
    "    train_test_split(train_data_features,y,\n",
    "                    test_size = TEST_SPLIT, random_state=RANDOM_SEED)"
   ]
  },
  {
   "cell_type": "code",
   "execution_count": 7,
   "id": "8fcb54b3-6753-407a-8a22-a3b37d9c1351",
   "metadata": {},
   "outputs": [
    {
     "data": {
      "text/plain": [
       "RandomForestClassifier()"
      ]
     },
     "execution_count": 7,
     "metadata": {},
     "output_type": "execute_result"
    }
   ],
   "source": [
    "from sklearn.ensemble import RandomForestClassifier\n",
    "\n",
    "forest = RandomForestClassifier(n_estimators=100)\n",
    "forest.fit(x_train, y_train)"
   ]
  },
  {
   "cell_type": "code",
   "execution_count": 8,
   "id": "c8d2415f-6157-4251-bbf5-75e57869e1db",
   "metadata": {},
   "outputs": [
    {
     "name": "stdout",
     "output_type": "stream",
     "text": [
      "Accutacy: 0.845800\n"
     ]
    }
   ],
   "source": [
    "print('Accutacy: %f' % forest.score(x_eval, y_eval))"
   ]
  },
  {
   "cell_type": "code",
   "execution_count": 9,
   "id": "94013316-49c4-4352-902c-cb54129d1e6a",
   "metadata": {},
   "outputs": [],
   "source": [
    "TEST_CLEAN_DATA = 'test_clean.csv'\n",
    "DATA_OUT_PATH = './data_out/'\n"
   ]
  },
  {
   "cell_type": "code",
   "execution_count": 10,
   "id": "6e692358-5a3c-4349-b38a-0e44fb51a0c7",
   "metadata": {},
   "outputs": [],
   "source": [
    "test_data = pd.read_csv(DATA_IN_PATH + TEST_CLEAN_DATA)"
   ]
  },
  {
   "cell_type": "code",
   "execution_count": 11,
   "id": "803c58ee-dae9-41ad-ae6e-1bd333d49633",
   "metadata": {},
   "outputs": [],
   "source": [
    "test_reviews = list(test_data['review'])\n",
    "ids = list(test_data['id'])\n"
   ]
  },
  {
   "cell_type": "code",
   "execution_count": 12,
   "id": "5e35b009-eb40-4d47-9371-3dba6fc64814",
   "metadata": {},
   "outputs": [],
   "source": [
    "test_data_features = vectorizer.transform(test_reviews)\n"
   ]
  },
  {
   "cell_type": "code",
   "execution_count": 13,
   "id": "617d71e9-1e51-4048-9c72-44731174ef41",
   "metadata": {},
   "outputs": [],
   "source": [
    "if not os.path.exists(DATA_OUT_PATH):\n",
    "    os.makedirs(DATA_OUT_PATH)\n"
   ]
  },
  {
   "cell_type": "code",
   "execution_count": 14,
   "id": "f8f7a9b6-501d-4e20-9065-a46db31c1b7d",
   "metadata": {},
   "outputs": [],
   "source": [
    "result = forest.predict(test_data_features)\n"
   ]
  },
  {
   "cell_type": "code",
   "execution_count": 15,
   "id": "fe77bb71-c0a1-411a-a8e9-f369929c7bed",
   "metadata": {},
   "outputs": [],
   "source": [
    "output = pd.DataFrame(data={'id': ids, 'sentiment': result})"
   ]
  },
  {
   "cell_type": "code",
   "execution_count": 16,
   "id": "3e3eec62-b8f2-40f6-a43c-462eebfe17c1",
   "metadata": {},
   "outputs": [],
   "source": [
    "output.to_csv(DATA_OUT_PATH + 'Forest_model.csv', index=False, quoting=3)"
   ]
  },
  {
   "cell_type": "code",
   "execution_count": null,
   "id": "5ae8d45a-c1e0-4d53-8f23-dd5531383cab",
   "metadata": {},
   "outputs": [],
   "source": []
  },
  {
   "cell_type": "code",
   "execution_count": null,
   "id": "9bd59229-13b5-4c79-9d2a-a5ff0a00c42c",
   "metadata": {},
   "outputs": [],
   "source": []
  }
 ],
 "metadata": {
  "kernelspec": {
   "display_name": "Python 3 (ipykernel)",
   "language": "python",
   "name": "python3"
  },
  "language_info": {
   "codemirror_mode": {
    "name": "ipython",
    "version": 3
   },
   "file_extension": ".py",
   "mimetype": "text/x-python",
   "name": "python",
   "nbconvert_exporter": "python",
   "pygments_lexer": "ipython3",
   "version": "3.8.11"
  }
 },
 "nbformat": 4,
 "nbformat_minor": 5
}
