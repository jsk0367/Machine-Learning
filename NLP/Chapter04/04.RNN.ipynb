{
 "cells": [
  {
   "cell_type": "code",
   "execution_count": 2,
   "id": "20f8a548-5093-4d6f-bf9c-ded2030e53e3",
   "metadata": {},
   "outputs": [],
   "source": [
    "import tensorflow as tf\n",
    "from tensorflow.keras.preprocessing.sequence import pad_sequences\n",
    "from tensorflow.keras.callbacks import EarlyStopping, ModelCheckpoint\n",
    "from tensorflow.keras import layers\n",
    "import numpy as np\n",
    "import matplotlib.pyplot as plt\n",
    "import os\n",
    "import json"
   ]
  },
  {
   "cell_type": "code",
   "execution_count": 31,
   "id": "f7b9f163-ec4e-40b0-9067-03185cc723c5",
   "metadata": {},
   "outputs": [],
   "source": [
    "def plot_graph(history, string):\n",
    "    plt.plot(history.history[string])\n",
    "    plt.plot(history.history['val_' + string], '')\n",
    "    plt.xlabel('Epochs')\n",
    "    plt.ylabel(string)\n",
    "    plt.legend([string, 'val_' + string])\n",
    "    plt.show()"
   ]
  },
  {
   "cell_type": "code",
   "execution_count": 32,
   "id": "0679d9f6-8260-4354-a6f8-ba0b3cc7f000",
   "metadata": {},
   "outputs": [],
   "source": [
    "DATA_IN_PATH = './data_in/'\n",
    "DATA_OUT_PATH = './data_out/'\n",
    "TRAIN_INPUT_DATA ='train_input.npy'\n",
    "TRAIN_LABEL_DATA ='train_label.npy'\n",
    "DATA_CONFIGS = 'data_configs.json'"
   ]
  },
  {
   "cell_type": "code",
   "execution_count": 33,
   "id": "e472f699-e611-4ead-9402-1bdc30ffc468",
   "metadata": {},
   "outputs": [],
   "source": [
    "train_input = np.load(open(DATA_IN_PATH + TRAIN_INPUT_DATA, 'rb'))\n",
    "train_label = np.load(open(DATA_IN_PATH + TRAIN_LABEL_DATA, 'rb'))\n",
    "prepro_configs = json.load(open(DATA_IN_PATH + DATA_CONFIGS, 'r'))\n",
    "                                "
   ]
  },
  {
   "cell_type": "code",
   "execution_count": 34,
   "id": "35a11bea-7048-4025-8f25-e9ed1cfe1d11",
   "metadata": {},
   "outputs": [
    {
     "name": "stdout",
     "output_type": "stream",
     "text": [
      "(25000, 174)\n",
      "(25000,)\n"
     ]
    }
   ],
   "source": [
    "print(train_input.shape)\n",
    "print(train_label.shape)"
   ]
  },
  {
   "cell_type": "code",
   "execution_count": 36,
   "id": "f8b8556f-dab1-457a-9bdd-2c39b59260ea",
   "metadata": {},
   "outputs": [],
   "source": [
    "SEED_NUM = 1234\n",
    "tf.random.set_seed(SEED_NUM)\n",
    "\n",
    "model_name = 'rnn_classifier_en'\n",
    "BATCH_SIZE = 128\n",
    "NUM_EPOCHS = 5\n",
    "VALID_SPLIT = 0.1\n",
    "MAX_LEN = train_input.shape[1]\n",
    "\n",
    "kargs = {'model_name':model_name,\n",
    "         'vocab_size':prepro_configs['vocab_size'],\n",
    "         'embedding_dimension':100,\n",
    "         'dropout_rate': 0.2,\n",
    "         'lstm_dimension': 150,\n",
    "         'dense_dimension': 150,\n",
    "         'output_dimension':1}      "
   ]
  },
  {
   "cell_type": "markdown",
   "id": "3187ea59-857e-4162-821b-7799e0d27bcf",
   "metadata": {},
   "source": [
    "### 모델 선언\n",
    "- LSTM 각 단계에서 현재 정보는 input state, 이전 정보는 hidden state 라 함  \n",
    "- LSTM 의 매개변수 중 return_sequences 은 hidden state 의 반환값을 결정하는데  \n",
    "- false 일 경우 predict 시 마지막 hidden state만 출력됨  \n",
    "- true 일 경우 각 time step 별 모든 hidden state 를 출력함  \n",
    "- 이전의 기록들이 다음 레이어로 들어가기 때문에 LSTM레이어끼리 엮기 위해서는 return_sequence를 사용하여야 함 "
   ]
  },
  {
   "cell_type": "code",
   "execution_count": 37,
   "id": "58b3fb45-ae34-4a6f-9805-395dc0760975",
   "metadata": {},
   "outputs": [],
   "source": [
    "class RNNClassifier(tf.keras.Model):\n",
    "    def __init__(self, **kargs):#딕셔너리를 받을때는 **개\n",
    "        super(RNNClassifier, self).__init__(name=kargs['model_name'])\n",
    "        self.embedding = layers.Embedding(input_dim=kargs['vocab_size'] + 1,\n",
    "                                          output_dim=kargs['embedding_dimension'])\n",
    "        \n",
    "        self.lstm_1_layer = layers.LSTM(kargs['lstm_dimension'],\n",
    "                                       return_sequences=True)\n",
    "        self.lstm_2_layer = layers.LSTM(kargs['lstm_dimension'])\n",
    "        self.dropout = layers.Dropout(kargs['dropout_rate'])\n",
    "        self.fc1 = layers.Dense(kargs['dense_dimension'], activation= tf.keras.activations.tanh)\n",
    "        self.fc2 = layers.Dense(kargs['output_dimension'], activation= tf.keras.activations.sigmoid)\n",
    "    \n",
    "    def call(self, x):\n",
    "        x = self.embedding(x)\n",
    "        x = self.dropout(x)\n",
    "        x = self.lstm_1_layer(x)\n",
    "        x = self.lstm_2_layer(x)\n",
    "        x = self.dropout(x)\n",
    "        x = self.fc1(x)\n",
    "        x = self.dropout(x)\n",
    "        x = self.fc2(x)\n",
    "        \n",
    "        return x\n",
    "        "
   ]
  },
  {
   "cell_type": "code",
   "execution_count": 38,
   "id": "94173205-a546-416b-ad57-255b2be194b4",
   "metadata": {},
   "outputs": [],
   "source": [
    "model = RNNClassifier(**kargs)\n",
    "model.compile(optimizer=tf.keras.optimizers.Adam(1e-4),\n",
    "              loss= tf.keras.losses.BinaryCrossentropy(),\n",
    "              metrics=[tf.keras.metrics.BinaryAccuracy(name='accuracy')])"
   ]
  },
  {
   "cell_type": "code",
   "execution_count": 39,
   "id": "dd864836-fd78-43fd-9f1c-a9c15a6c9044",
   "metadata": {},
   "outputs": [
    {
     "name": "stdout",
     "output_type": "stream",
     "text": [
      "./data_out/rnn_classifier_en -- Folder already exists \n",
      "\n"
     ]
    }
   ],
   "source": [
    "earlystop_callback = EarlyStopping(monitor='val_accuacy', min_delta=0.0001, patience=3)\n",
    "checkpoint_path = DATA_OUT_PATH + model_name + '/weights.h5'\n",
    "checkpoint_dir = os.path.dirname(checkpoint_path)\n",
    "if os.path.exists(checkpoint_dir):\n",
    "    print('{} -- Folder already exists \\n'.format(checkpoint_dir))\n",
    "else:\n",
    "    os.makedirs(checkpoint_dir, exist_ok =True)\n",
    "    print('{} -- Folder create complete \\n'.format(checkpoint_dir))\n",
    "    \n",
    "cp_callback = ModelCheckpoint(checkpoint_path, monitor='val_accuracy', verbose=1,\n",
    "                              save_bset_only=True, save_weights_only=True)\n"
   ]
  },
  {
   "cell_type": "code",
   "execution_count": 40,
   "id": "97ae623a-1986-450a-b654-9406340daaec",
   "metadata": {},
   "outputs": [
    {
     "name": "stdout",
     "output_type": "stream",
     "text": [
      "Epoch 1/5\n",
      "176/176 [==============================] - ETA: 0s - loss: 0.6931 - accuracy: 0.5070WARNING:tensorflow:Early stopping conditioned on metric `val_accuacy` which is not available. Available metrics are: loss,accuracy,val_loss,val_accuracy\n",
      "\n",
      "Epoch 00001: saving model to ./data_out/rnn_classifier_en\\weights.h5\n",
      "176/176 [==============================] - 242s 1s/step - loss: 0.6931 - accuracy: 0.5070 - val_loss: 0.6929 - val_accuracy: 0.5096\n",
      "Epoch 2/5\n",
      "176/176 [==============================] - ETA: 0s - loss: 0.6914 - accuracy: 0.5135WARNING:tensorflow:Early stopping conditioned on metric `val_accuacy` which is not available. Available metrics are: loss,accuracy,val_loss,val_accuracy\n",
      "\n",
      "Epoch 00002: saving model to ./data_out/rnn_classifier_en\\weights.h5\n",
      "176/176 [==============================] - 185s 1s/step - loss: 0.6914 - accuracy: 0.5135 - val_loss: 0.6887 - val_accuracy: 0.5020\n",
      "Epoch 3/5\n",
      "176/176 [==============================] - ETA: 0s - loss: 0.4618 - accuracy: 0.7787WARNING:tensorflow:Early stopping conditioned on metric `val_accuacy` which is not available. Available metrics are: loss,accuracy,val_loss,val_accuracy\n",
      "\n",
      "Epoch 00003: saving model to ./data_out/rnn_classifier_en\\weights.h5\n",
      "176/176 [==============================] - 220s 1s/step - loss: 0.4618 - accuracy: 0.7787 - val_loss: 0.3059 - val_accuracy: 0.8756\n",
      "Epoch 4/5\n",
      "176/176 [==============================] - ETA: 0s - loss: 0.2296 - accuracy: 0.9118WARNING:tensorflow:Early stopping conditioned on metric `val_accuacy` which is not available. Available metrics are: loss,accuracy,val_loss,val_accuracy\n",
      "\n",
      "Epoch 00004: saving model to ./data_out/rnn_classifier_en\\weights.h5\n",
      "176/176 [==============================] - 222s 1s/step - loss: 0.2296 - accuracy: 0.9118 - val_loss: 0.2733 - val_accuracy: 0.8892\n",
      "Epoch 5/5\n",
      "176/176 [==============================] - ETA: 0s - loss: 0.1495 - accuracy: 0.9475WARNING:tensorflow:Early stopping conditioned on metric `val_accuacy` which is not available. Available metrics are: loss,accuracy,val_loss,val_accuracy\n",
      "\n",
      "Epoch 00005: saving model to ./data_out/rnn_classifier_en\\weights.h5\n",
      "176/176 [==============================] - 225s 1s/step - loss: 0.1495 - accuracy: 0.9475 - val_loss: 0.3529 - val_accuracy: 0.8828\n"
     ]
    }
   ],
   "source": [
    "history = model.fit(train_input,train_label, batch_size=BATCH_SIZE, epochs=NUM_EPOCHS,\n",
    "                    validation_split=VALID_SPLIT,\n",
    "                    callbacks=[earlystop_callback, cp_callback])"
   ]
  },
  {
   "cell_type": "code",
   "execution_count": 41,
   "id": "68a6f789-b129-4948-aa05-57cae74ff6cf",
   "metadata": {},
   "outputs": [
    {
     "data": {
      "image/png": "[encoded data removed]",
      "text/plain": [
       "<Figure size 432x288 with 1 Axes>"
      ]
     },
     "metadata": {
      "needs_background": "light"
     },
     "output_type": "display_data"
    }
   ],
   "source": [
    "plot_graph(history, 'accuracy')"
   ]
  },
  {
   "cell_type": "code",
   "execution_count": 42,
   "id": "74a123ee-b1ca-4158-a8d1-3b3f2b55f2a2",
   "metadata": {},
   "outputs": [
    {
     "data": {
      "image/png": "[encoded data removed]",
      "text/plain": [
       "<Figure size 432x288 with 1 Axes>"
      ]
     },
     "metadata": {
      "needs_background": "light"
     },
     "output_type": "display_data"
    }
   ],
   "source": [
    "plot_graph(history, 'loss')"
   ]
  },
  {
   "cell_type": "code",
   "execution_count": 43,
   "id": "b41021f2-7dbe-41bf-b7a6-bcdeaf3bb05a",
   "metadata": {},
   "outputs": [],
   "source": [
    "TEST_INPUT_DATA = 'test_input.npy'\n",
    "TEST_ID_DATA = 'test_id.npy'\n",
    "\n",
    "test_input = np.load(open(DATA_IN_PATH + TEST_INPUT_DATA, 'rb'))\n",
    "test_input = pad_sequences(test_input, maxlen=test_input.shape[1])"
   ]
  },
  {
   "cell_type": "code",
   "execution_count": 45,
   "id": "f9f7c2c7-05ab-429a-80b9-3f1ad2a062a3",
   "metadata": {},
   "outputs": [],
   "source": [
    "SAVE_FILE_NM = 'weights.h5'\n",
    "model.load_weights(os.path.join(DATA_OUT_PATH, model_name, SAVE_FILE_NM))\n"
   ]
  },
  {
   "cell_type": "code",
   "execution_count": 47,
   "id": "38402d84-8caa-451d-8aa6-d3aeccc0f8c1",
   "metadata": {},
   "outputs": [],
   "source": [
    "predictions = model.predict(test_input, batch_size=BATCH_SIZE)\n",
    "predictions = predictions.squeeze(-1)"
   ]
  },
  {
   "cell_type": "code",
   "execution_count": 48,
   "id": "8d5ae3bd-d46f-463d-bfc3-973cf06ef337",
   "metadata": {},
   "outputs": [
    {
     "name": "stdout",
     "output_type": "stream",
     "text": [
      "[0.9975365  0.00160778 0.6304182  0.31067905 0.98849297 0.99030834\n",
      " 0.00219923 0.4333138  0.00113937 0.03225255]\n"
     ]
    }
   ],
   "source": [
    "print(predictions[:10])"
   ]
  },
  {
   "cell_type": "code",
   "execution_count": 50,
   "id": "8724d9c3-b8d2-4e02-bfba-1a30703e8bfa",
   "metadata": {},
   "outputs": [
    {
     "data": {
      "text/html": [
       "<div>\n",
       "<style scoped>\n",
       "    .dataframe tbody tr th:only-of-type {\n",
       "        vertical-align: middle;\n",
       "    }\n",
       "\n",
       "    .dataframe tbody tr th {\n",
       "        vertical-align: top;\n",
       "    }\n",
       "\n",
       "    .dataframe thead th {\n",
       "        text-align: right;\n",
       "    }\n",
       "</style>\n",
       "<table border=\"1\" class=\"dataframe\">\n",
       "  <thead>\n",
       "    <tr style=\"text-align: right;\">\n",
       "      <th></th>\n",
       "      <th>id</th>\n",
       "      <th>sentiment</th>\n",
       "    </tr>\n",
       "  </thead>\n",
       "  <tbody>\n",
       "    <tr>\n",
       "      <th>0</th>\n",
       "      <td>\"12311_10\"</td>\n",
       "      <td>0.997536</td>\n",
       "    </tr>\n",
       "    <tr>\n",
       "      <th>1</th>\n",
       "      <td>\"8348_2\"</td>\n",
       "      <td>0.001608</td>\n",
       "    </tr>\n",
       "    <tr>\n",
       "      <th>2</th>\n",
       "      <td>\"5828_4\"</td>\n",
       "      <td>0.630418</td>\n",
       "    </tr>\n",
       "    <tr>\n",
       "      <th>3</th>\n",
       "      <td>\"7186_2\"</td>\n",
       "      <td>0.310679</td>\n",
       "    </tr>\n",
       "    <tr>\n",
       "      <th>4</th>\n",
       "      <td>\"12128_7\"</td>\n",
       "      <td>0.988493</td>\n",
       "    </tr>\n",
       "  </tbody>\n",
       "</table>\n",
       "</div>"
      ],
      "text/plain": [
       "           id  sentiment\n",
       "0  \"12311_10\"   0.997536\n",
       "1    \"8348_2\"   0.001608\n",
       "2    \"5828_4\"   0.630418\n",
       "3    \"7186_2\"   0.310679\n",
       "4   \"12128_7\"   0.988493"
      ]
     },
     "execution_count": 50,
     "metadata": {},
     "output_type": "execute_result"
    }
   ],
   "source": [
    "import pandas as pd\n",
    "\n",
    "test_id = np.load(open(DATA_IN_PATH + TEST_ID_DATA, 'rb'),allow_pickle=True)\n",
    "#allow_pickle=True 판다스 시리즈객체이므로 객체로 읽을때는 설정해줘야한다\n",
    "\n",
    "if not os.path.exists(DATA_OUT_PATH):\n",
    "    os.makedirs(DATA_OUT_PATH)\n",
    "    \n",
    "output = pd.DataFrame({'id': list(test_id), 'sentiment': list(predictions)})\n",
    "output.head()"
   ]
  },
  {
   "cell_type": "code",
   "execution_count": 51,
   "id": "400ab9d1-870b-4cf7-a68b-d8bce8aa20aa",
   "metadata": {},
   "outputs": [],
   "source": [
    "output.to_csv(DATA_OUT_PATH + 'review_result_rnn.csv',index=False, quoting=3)"
   ]
  },
  {
   "cell_type": "code",
   "execution_count": 52,
   "id": "bcb772e0-56da-48c7-8d03-c949ef28e024",
   "metadata": {},
   "outputs": [
    {
     "name": "stdout",
     "output_type": "stream",
     "text": [
      "Model: \"rnn_classifier_en\"\n",
      "_________________________________________________________________\n",
      "Layer (type)                 Output Shape              Param #   \n",
      "=================================================================\n",
      "embedding_5 (Embedding)      multiple                  7720000   \n",
      "_________________________________________________________________\n",
      "lstm_10 (LSTM)               multiple                  150600    \n",
      "_________________________________________________________________\n",
      "lstm_11 (LSTM)               multiple                  180600    \n",
      "_________________________________________________________________\n",
      "dropout_4 (Dropout)          multiple                  0         \n",
      "_________________________________________________________________\n",
      "dense_6 (Dense)              multiple                  22650     \n",
      "_________________________________________________________________\n",
      "dense_7 (Dense)              multiple                  151       \n",
      "=================================================================\n",
      "Total params: 8,074,001\n",
      "Trainable params: 8,074,001\n",
      "Non-trainable params: 0\n",
      "_________________________________________________________________\n"
     ]
    }
   ],
   "source": [
    "model.summary()"
   ]
  },
  {
   "cell_type": "code",
   "execution_count": null,
   "id": "d29817db-f065-4358-b02a-4cb481d74432",
   "metadata": {},
   "outputs": [],
   "source": []
  }
 ],
 "metadata": {
  "kernelspec": {
   "display_name": "Python 3 (ipykernel)",
   "language": "python",
   "name": "python3"
  },
  "language_info": {
   "codemirror_mode": {
    "name": "ipython",
    "version": 3
   },
   "file_extension": ".py",
   "mimetype": "text/x-python",
   "name": "python",
   "nbconvert_exporter": "python",
   "pygments_lexer": "ipython3",
   "version": "3.8.11"
  }
 },
 "nbformat": 4,
 "nbformat_minor": 5
}
