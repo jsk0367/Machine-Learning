{
 "cells": [
  {
   "cell_type": "code",
   "execution_count": 1,
   "id": "a02f2969-ed46-43ae-85e1-ca0ba173e17b",
   "metadata": {},
   "outputs": [],
   "source": [
    "import tensorflow as tf\n",
    "from tensorflow.keras.preprocessing.sequence import pad_sequences\n",
    "from tensorflow.keras.callbacks import EarlyStopping, ModelCheckpoint\n",
    "from tensorflow.keras import layers\n",
    "import numpy as np\n",
    "import matplotlib.pyplot as plt\n",
    "import os\n",
    "import json"
   ]
  },
  {
   "cell_type": "code",
   "execution_count": 2,
   "id": "b6723c0b-024a-4108-81bd-e59574c81489",
   "metadata": {},
   "outputs": [],
   "source": [
    "def plot_graph(history, string):\n",
    "    plt.plot(history.history[string])\n",
    "    plt.plot(history.history['val_' + string], '')\n",
    "    plt.xlabel('Epochs')\n",
    "    plt.ylabel(string)\n",
    "    plt.legend([string, 'val_' + string])\n",
    "    plt.show()"
   ]
  },
  {
   "cell_type": "code",
   "execution_count": 3,
   "id": "0057f7af-ff55-4aa2-8dd5-d2abe5420aab",
   "metadata": {},
   "outputs": [],
   "source": [
    "DATA_IN_PATH = './data_in/'\n",
    "DATA_OUT_PATH = './data_out/'\n",
    "TRAIN_INPUT_DATA ='train_input.npy'\n",
    "TRAIN_LABEL_DATA ='train_label.npy'\n",
    "DATA_CONFIGS = 'data_configs.json'"
   ]
  },
  {
   "cell_type": "code",
   "execution_count": 4,
   "id": "4bcb2843-305e-4f28-8f97-1c817b83cee1",
   "metadata": {},
   "outputs": [],
   "source": [
    "SEED_NUM = 1234\n",
    "tf.random.set_seed(SEED_NUM)"
   ]
  },
  {
   "cell_type": "code",
   "execution_count": 5,
   "id": "b4818a7e-5c60-4d29-8eaa-f274d8ee6989",
   "metadata": {},
   "outputs": [],
   "source": [
    "train_input = np.load(open(DATA_IN_PATH + TRAIN_INPUT_DATA, 'rb'))\n",
    "train_label = np.load(open(DATA_IN_PATH + TRAIN_LABEL_DATA, 'rb'))\n",
    "prepro_configs = json.load(open(DATA_IN_PATH + DATA_CONFIGS, 'r'))"
   ]
  },
  {
   "cell_type": "code",
   "execution_count": 13,
   "id": "dda5142e-e64f-43b7-9edb-d66d0cbfb6fd",
   "metadata": {},
   "outputs": [],
   "source": [
    "model_name = 'cnn_classifier_en'\n",
    "BATCH_SIZE = 512\n",
    "NUM_EPOCHS = 10\n",
    "VALID_SPLIT = 0.1\n",
    "MAX_LEN = train_input.shape[1]\n",
    "\n",
    "kargs = {'model_name': model_name,\n",
    "         'vocab_size' : prepro_configs['vocab_size'],\n",
    "         'embedding_size':128,\n",
    "         'num_filters': 100,\n",
    "         'dropout_rate': 0.5,\n",
    "         'hidden_sdimension':250,\n",
    "         'output_dimension':1}"
   ]
  },
  {
   "cell_type": "code",
   "execution_count": 14,
   "id": "9c2b451a-a24e-482f-8c88-90b65fe20431",
   "metadata": {},
   "outputs": [],
   "source": [
    "class CNNClassifier(tf.keras.Model):\n",
    "    def __init__(self, **kargs):\n",
    "        super(CNNClassifier, self).__init__(name=kargs['model_name'])\n",
    "        self.embedding = layers.Embedding(input_dim=kargs['vocab_size']+1,\n",
    "                                          output_dim=kargs['embedding_size'])\n",
    "        self.conv_list = [layers.Conv1D(filters=kargs['num_filters'],\n",
    "                                        kernel_size=kernel_size,padding='valid',\n",
    "                                        activation='relu',\n",
    "                                        kernel_constraint=tf.keras.constraints.MaxNorm(max_value=3.))\n",
    "                                        #가중치 값이 너무 커지지 않도록 제한한것\n",
    "                          for kernel_size in [3, 4, 5]]\n",
    "        self.pooling = layers.GlobalMaxPooling1D()\n",
    "        self.dropout = layers.Dropout(kargs['dropout_rate'])\n",
    "        self.fc1 = layers.Dense(units=kargs['hidden_sdimension'],\n",
    "                                activation='relu',\n",
    "                                kernel_constraint=tf.keras.constraints.MaxNorm(max_value=3.))\n",
    "        self.fc2 = layers.Dense(units=kargs['output_dimension'],\n",
    "                                activation='sigmoid',\n",
    "                                kernel_constraint=tf.keras.constraints.MaxNorm(max_value=3.))\n",
    "    def call(self,x):\n",
    "        x = self.embedding(x)\n",
    "        x = self.dropout(x)\n",
    "        x = tf.concat([self.pooling(conv(x)) for conv in self.conv_list], axis=-1)\n",
    "        x = self.fc1(x)\n",
    "        x = self.fc2(x)\n",
    "        \n",
    "        return x\n",
    "                                        "
   ]
  },
  {
   "cell_type": "code",
   "execution_count": 16,
   "id": "f45a8ac9-2502-462a-a75b-52007ca6a51f",
   "metadata": {},
   "outputs": [],
   "source": [
    "model = CNNClassifier(**kargs)\n",
    "model.compile(optimizer=tf.keras.optimizers.Adam(),\n",
    "              loss=tf.keras.losses.BinaryCrossentropy(),\n",
    "              metrics=[tf.keras.metrics.BinaryAccuracy(name='accuracy')])"
   ]
  },
  {
   "cell_type": "code",
   "execution_count": 21,
   "id": "d3bb94e8-29bd-4c61-b98f-7b86b918a80e",
   "metadata": {},
   "outputs": [
    {
     "name": "stdout",
     "output_type": "stream",
     "text": [
      "./data_out/cnn_classifier_en -- Folder already exists \n",
      "\n"
     ]
    }
   ],
   "source": [
    "earlystop_callback = EarlyStopping(monitor='val_accuracy', min_delta=0.0001, patience=2)\n",
    "\n",
    "checkpoint_path = DATA_OUT_PATH + model_name + '/weights.h5'\n",
    "checkpoint_dir = os.path.dirname(checkpoint_path)\n",
    "\n",
    "if os.path.exists(checkpoint_dir):\n",
    "    print('{} -- Folder already exists \\n'.format(checkpoint_dir))\n",
    "else:\n",
    "    os.makedirs(checkpoint_dir, exist_ok=True)\n",
    "    print('{} -- Folder create complete \\n'.format(checkpoint_dir))\n",
    "    \n",
    "cp_callback = ModelCheckpoint(checkpoint_path, monitor ='val_accuracy', verbose=1,\n",
    "                             save_best_only=True, save_weights_only=True)\n"
   ]
  },
  {
   "cell_type": "code",
   "execution_count": 22,
   "id": "373ad623-46c6-423d-bd1a-eb96855fec0b",
   "metadata": {},
   "outputs": [
    {
     "name": "stdout",
     "output_type": "stream",
     "text": [
      "Epoch 1/10\n",
      "44/44 [==============================] - ETA: 0s - loss: 0.6668 - accuracy: 0.6082\n",
      "Epoch 00001: val_accuracy improved from -inf to 0.77880, saving model to ./data_out/cnn_classifier_en\\weights.h5\n",
      "44/44 [==============================] - 32s 719ms/step - loss: 0.6668 - accuracy: 0.6082 - val_loss: 0.5406 - val_accuracy: 0.7788\n",
      "Epoch 2/10\n",
      "44/44 [==============================] - ETA: 0s - loss: 0.3741 - accuracy: 0.8399\n",
      "Epoch 00002: val_accuracy improved from 0.77880 to 0.87120, saving model to ./data_out/cnn_classifier_en\\weights.h5\n",
      "44/44 [==============================] - 33s 759ms/step - loss: 0.3741 - accuracy: 0.8399 - val_loss: 0.3131 - val_accuracy: 0.8712\n",
      "Epoch 3/10\n",
      "44/44 [==============================] - ETA: 0s - loss: 0.2099 - accuracy: 0.9187\n",
      "Epoch 00003: val_accuracy improved from 0.87120 to 0.88400, saving model to ./data_out/cnn_classifier_en\\weights.h5\n",
      "44/44 [==============================] - 34s 771ms/step - loss: 0.2099 - accuracy: 0.9187 - val_loss: 0.2990 - val_accuracy: 0.8840\n",
      "Epoch 4/10\n",
      "44/44 [==============================] - ETA: 0s - loss: 0.1265 - accuracy: 0.9568\n",
      "Epoch 00004: val_accuracy did not improve from 0.88400\n",
      "44/44 [==============================] - 35s 807ms/step - loss: 0.1265 - accuracy: 0.9568 - val_loss: 0.3330 - val_accuracy: 0.8752\n",
      "Epoch 5/10\n",
      "44/44 [==============================] - ETA: 0s - loss: 0.0710 - accuracy: 0.9773\n",
      "Epoch 00005: val_accuracy did not improve from 0.88400\n",
      "44/44 [==============================] - 37s 842ms/step - loss: 0.0710 - accuracy: 0.9773 - val_loss: 0.3945 - val_accuracy: 0.8704\n"
     ]
    }
   ],
   "source": [
    "history = model.fit(train_input, train_label, batch_size=BATCH_SIZE, epochs=NUM_EPOCHS,\n",
    "                    validation_split=VALID_SPLIT, callbacks=[earlystop_callback, cp_callback])"
   ]
  },
  {
   "cell_type": "code",
   "execution_count": 27,
   "id": "85cfba21-9d8b-4cd1-b3f5-a51c6b8a0819",
   "metadata": {},
   "outputs": [
    {
     "data": {
      "image/png": "[encoded data removed]",
      "text/plain": [
       "<Figure size 432x288 with 1 Axes>"
      ]
     },
     "metadata": {
      "needs_background": "light"
     },
     "output_type": "display_data"
    }
   ],
   "source": [
    "plot_graph(history,'accuracy')"
   ]
  },
  {
   "cell_type": "code",
   "execution_count": 28,
   "id": "738f271c-fb49-4652-aa25-efa6f9c886ca",
   "metadata": {},
   "outputs": [
    {
     "data": {
      "image/png": "[encoded data removed]",
      "text/plain": [
       "<Figure size 432x288 with 1 Axes>"
      ]
     },
     "metadata": {
      "needs_background": "light"
     },
     "output_type": "display_data"
    }
   ],
   "source": [
    "plot_graph(history,'loss')"
   ]
  },
  {
   "cell_type": "code",
   "execution_count": 29,
   "id": "8aafbdbb-f057-4ffa-bc55-056d6847dd65",
   "metadata": {},
   "outputs": [],
   "source": [
    "TEST_INPUT_DATA = 'test_input.npy'\n",
    "TEST_ID_DATA = 'test_id.npy'\n",
    "\n",
    "test_input = np.load(open(DATA_IN_PATH + TEST_INPUT_DATA, 'rb'))\n",
    "test_input = pad_sequences(test_input, maxlen=test_input.shape[1])"
   ]
  },
  {
   "cell_type": "code",
   "execution_count": 30,
   "id": "16b5d4cc-bc3d-4e29-ba48-772efb8cc07a",
   "metadata": {},
   "outputs": [],
   "source": [
    "SAVE_FILE_NM = 'weights.h5'#저장 되어있는 모델\n",
    "model.load_weights(os.path.join(DATA_OUT_PATH, model_name, SAVE_FILE_NM))"
   ]
  },
  {
   "cell_type": "code",
   "execution_count": 32,
   "id": "67d01c7f-6af8-4b12-8147-f4d4a05ab8ab",
   "metadata": {},
   "outputs": [],
   "source": [
    "predictions = model.predict(test_input, batch_size=5)\n",
    "predictions = predictions.squeeze(-1)"
   ]
  },
  {
   "cell_type": "code",
   "execution_count": 34,
   "id": "842b3639-3df3-4bed-92f6-14e80fab0f4c",
   "metadata": {},
   "outputs": [],
   "source": [
    "import pandas as pd\n",
    "test_id = np.load(open(DATA_IN_PATH + TEST_ID_DATA, 'rb'),allow_pickle=True)\n",
    "#allow_pickle=True 판다스 시리즈객체이므로 객체로 읽을때는 설정해줘야한다\n",
    "\n",
    "if not os.path.exists(DATA_OUT_PATH):\n",
    "    os.makedirs(DATA_OUT_PATH)\n",
    "    \n",
    "output = pd.DataFrame({'id': list(test_id), 'sentiment': list(predictions)})\n",
    "output.to_csv(DATA_OUT_PATH + 'movie_review_result_cnn.csv',index=False, quoting=3)"
   ]
  },
  {
   "cell_type": "code",
   "execution_count": null,
   "id": "099e449f-42ce-49b6-8763-5933b196dd27",
   "metadata": {},
   "outputs": [],
   "source": []
  }
 ],
 "metadata": {
  "kernelspec": {
   "display_name": "Python 3 (ipykernel)",
   "language": "python",
   "name": "python3"
  },
  "language_info": {
   "codemirror_mode": {
    "name": "ipython",
    "version": 3
   },
   "file_extension": ".py",
   "mimetype": "text/x-python",
   "name": "python",
   "nbconvert_exporter": "python",
   "pygments_lexer": "ipython3",
   "version": "3.8.11"
  }
 },
 "nbformat": 4,
 "nbformat_minor": 5
}
