{
 "cells": [
  {
   "cell_type": "code",
   "execution_count": 2,
   "id": "efba8af3-a070-40c0-bb35-d04bf75e251a",
   "metadata": {},
   "outputs": [],
   "source": [
    "import numpy as np\n",
    "from sklearn.feature_extraction.text import TfidfVectorizer"
   ]
  },
  {
   "cell_type": "code",
   "execution_count": 4,
   "id": "80f2a06a-4e71-44b7-a535-d1abd6429ae9",
   "metadata": {},
   "outputs": [],
   "source": [
    "sent =(\"휴일 인 오늘 도 서쪽 을 중심 으로 폭염 이 이어졌는데요, 내일 은 반가운 비 소식 이 있습니다.\",\n",
    "       \"폭염 을 피해서 휴일 에 놀러왔다가 갑작스런 비 로 인해 망연자실 하고 있습니다.\")\n",
    "tfidf_vectorizer = TfidfVectorizer()\n",
    "tfidf_matrix = tfidf_vectorizer.fit_transform(sent)"
   ]
  },
  {
   "cell_type": "code",
   "execution_count": 5,
   "id": "901dd733-fd48-41e1-91a0-db53d0275372",
   "metadata": {},
   "outputs": [
    {
     "name": "stdout",
     "output_type": "stream",
     "text": [
      "  (0, 11)\t0.23061650387901597\n",
      "  (0, 6)\t0.3241234495558481\n",
      "  (0, 4)\t0.3241234495558481\n",
      "  (0, 1)\t0.3241234495558481\n",
      "  (0, 9)\t0.3241234495558481\n",
      "  (0, 13)\t0.23061650387901597\n",
      "  (0, 8)\t0.3241234495558481\n",
      "  (0, 12)\t0.3241234495558481\n",
      "  (0, 5)\t0.3241234495558481\n",
      "  (0, 7)\t0.3241234495558481\n",
      "  (0, 16)\t0.23061650387901597\n",
      "  (1, 15)\t0.36469322896147516\n",
      "  (1, 3)\t0.36469322896147516\n",
      "  (1, 10)\t0.36469322896147516\n",
      "  (1, 0)\t0.36469322896147516\n",
      "  (1, 2)\t0.36469322896147516\n",
      "  (1, 14)\t0.36469322896147516\n",
      "  (1, 11)\t0.2594822360637418\n",
      "  (1, 13)\t0.2594822360637418\n",
      "  (1, 16)\t0.2594822360637418\n"
     ]
    }
   ],
   "source": [
    "print(tfidf_matrix)"
   ]
  },
  {
   "cell_type": "code",
   "execution_count": 7,
   "id": "61bea236-2129-492d-9570-0439a411186d",
   "metadata": {},
   "outputs": [
    {
     "name": "stdout",
     "output_type": "stream",
     "text": [
      "17\n"
     ]
    }
   ],
   "source": [
    "idf = tfidf_vectorizer.idf_\n",
    "word_dict = dict(zip(tfidf_vectorizer.get_feature_names(), idf))\n",
    "print(len(word_dict))"
   ]
  },
  {
   "cell_type": "code",
   "execution_count": 8,
   "id": "6f77513b-e4ed-4076-9a2c-b964cf9216ea",
   "metadata": {},
   "outputs": [
    {
     "name": "stdout",
     "output_type": "stream",
     "text": [
      "{'갑작스런': 1.4054651081081644, '내일': 1.4054651081081644, '놀러왔다가': 1.4054651081081644, '망연자실': 1.4054651081081644, '반가운': 1.4054651081081644, '서쪽': 1.4054651081081644, '소식': 1.4054651081081644, '오늘': 1.4054651081081644, '으로': 1.4054651081081644, '이어졌는데요': 1.4054651081081644, '인해': 1.4054651081081644, '있습니다': 1.0, '중심': 1.4054651081081644, '폭염': 1.0, '피해서': 1.4054651081081644, '하고': 1.4054651081081644, '휴일': 1.0}\n"
     ]
    }
   ],
   "source": [
    "print(word_dict)"
   ]
  },
  {
   "cell_type": "markdown",
   "id": "dfea6413-a78b-46d6-a314-291c38609cfe",
   "metadata": {},
   "source": [
    "## 유사도(Similarity)종류\n",
    "\n",
    "1.자카드 유사도\n",
    "\n",
    "2.코사인 유사도\n",
    "\n",
    "3.유클리다안 유사도\n",
    "\n",
    "4.멘하탄 유사도"
   ]
  },
  {
   "cell_type": "markdown",
   "id": "e29c32f2-ddb3-4dc2-87cb-6393cb85d2fc",
   "metadata": {},
   "source": [
    "## 1. 자카드(Jaccard) 유사도\n",
    "- 벡터화 없이 유사도 측정 가능  \n",
    "- 두 문장을 각각 단어의 집합으로 만든 뒤 두 집합을 통해 유사도 측정  \n",
    "- 두 집합의 교집합인 공통된 단어의 개수를 전체 단어의 수로 나눔(0 ~ 1)  \n",
    "- 결과가 1에 가까울 수록 유사도가 높다는 의미(공통 단어가 많다는 의미)  \n",
    "- A, B 는 각 문장을 의미, token은 각 단어를 의미 할 경우 수식은 다음과 같음  \n",
    "## J(A, B) = $\\frac {|A\\, \\cap \\, B|} {|A\\, \\cup \\, B|}$ = $\\frac {|token\\,in\\, A\\, \\cap\\, token\\, in\\, B|} {|token\\, in\\, A\\, \\cup\\, token\\, in\\, B|}$"
   ]
  },
  {
   "cell_type": "code",
   "execution_count": 9,
   "id": "0dafbdd0-d5ba-48fe-a31e-a54d3572518d",
   "metadata": {},
   "outputs": [
    {
     "data": {
      "text/plain": [
       "array([0.5, 1. , 0. ])"
      ]
     },
     "execution_count": 9,
     "metadata": {},
     "output_type": "execute_result"
    }
   ],
   "source": [
    "from sklearn.metrics import jaccard_score\n",
    "#jaccard_score(tfdif_matrix[0:1], tfidf_matrix[1:2])\n",
    "jaccard_score(np.array([1,1,0,0]), np.array([1,1,0,2]), average=None)"
   ]
  },
  {
   "cell_type": "markdown",
   "id": "8ddf63ba-d7e9-4cec-bb70-d4c7655082d2",
   "metadata": {},
   "source": [
    "## 2. 코사인 유사도  \n",
    "- 두 개의 벡터값에서 코사인 각도를 구함  \n",
    "- 코사인 유사도 값은 -1 과 1사이의 값을 가지고, 1에 가까울수록 유사함을 의미  \n",
    "- 유사도를 계산할 때 가장 널리 쓰이는 방법  \n",
    "- 다른 유사도 접근법에 비해 일반적으로 성능이 좋음  \n",
    "- 단순히 좌표상의 거리를 구하는 대신 두 벡터간의 각도를 구함, 방향성의 개념이 더해짐  \n",
    "- 두 문장이 유사하다면 같은 방향으로 가리킬 것이고, 그렇지 않다면 직교좌표로 표현될 것임  \n",
    "## $\\cos(\\theta) = \\frac {\\vec{a}\\bullet\\vec{b}} {\\parallel\\vec{a}\\parallel\\bullet\\parallel\\vec{b}\\parallel}$"
   ]
  },
  {
   "cell_type": "code",
   "execution_count": 10,
   "id": "c5f98df3-1c85-43d8-a366-7f061155d4a5",
   "metadata": {},
   "outputs": [
    {
     "data": {
      "text/plain": [
       "array([[0.17952266]])"
      ]
     },
     "execution_count": 10,
     "metadata": {},
     "output_type": "execute_result"
    }
   ],
   "source": [
    "from sklearn.metrics.pairwise import cosine_similarity\n",
    "cosine_similarity(tfidf_matrix[0:1], tfidf_matrix[1:2])"
   ]
  },
  {
   "cell_type": "code",
   "execution_count": 11,
   "id": "28171cc9-32ea-45ce-8d39-92abc24cfeaa",
   "metadata": {},
   "outputs": [
    {
     "name": "stdout",
     "output_type": "stream",
     "text": [
      "  (0, 11)\t0.23061650387901597\n",
      "  (0, 6)\t0.3241234495558481\n",
      "  (0, 4)\t0.3241234495558481\n",
      "  (0, 1)\t0.3241234495558481\n",
      "  (0, 9)\t0.3241234495558481\n",
      "  (0, 13)\t0.23061650387901597\n",
      "  (0, 8)\t0.3241234495558481\n",
      "  (0, 12)\t0.3241234495558481\n",
      "  (0, 5)\t0.3241234495558481\n",
      "  (0, 7)\t0.3241234495558481\n",
      "  (0, 16)\t0.23061650387901597\n"
     ]
    }
   ],
   "source": [
    "print(tfidf_matrix[0:1])"
   ]
  },
  {
   "cell_type": "code",
   "execution_count": 12,
   "id": "5ce7b135-9a8e-440a-a1b1-ebe21ff592b2",
   "metadata": {},
   "outputs": [
    {
     "name": "stdout",
     "output_type": "stream",
     "text": [
      "  (0, 15)\t0.36469322896147516\n",
      "  (0, 3)\t0.36469322896147516\n",
      "  (0, 10)\t0.36469322896147516\n",
      "  (0, 0)\t0.36469322896147516\n",
      "  (0, 2)\t0.36469322896147516\n",
      "  (0, 14)\t0.36469322896147516\n",
      "  (0, 11)\t0.2594822360637418\n",
      "  (0, 13)\t0.2594822360637418\n",
      "  (0, 16)\t0.2594822360637418\n"
     ]
    }
   ],
   "source": [
    "print(tfidf_matrix[1:2])"
   ]
  },
  {
   "cell_type": "markdown",
   "id": "0325cbc3-9308-4588-901b-7effd6e2394e",
   "metadata": {},
   "source": [
    "## 3. 유클리디안 유사도\n",
    "- 가장 기본적인 거리를 측정하는 유사도 \n",
    "- 두점사이의 거리 측정\n",
    "## d(x, y) = $\\sqrt{(x_{1} - y_{1})^2 + (x_{2} - y_{2})^2 + ... + (x_{n} - y_{n})^2}$"
   ]
  },
  {
   "cell_type": "code",
   "execution_count": 14,
   "id": "07259c0a-2602-4d58-96c5-c26f89abbe26",
   "metadata": {},
   "outputs": [
    {
     "name": "stdout",
     "output_type": "stream",
     "text": [
      "[[1.28099753]]\n"
     ]
    }
   ],
   "source": [
    "from sklearn.metrics.pairwise import euclidean_distances\n",
    "print(euclidean_distances(tfidf_matrix[0:1], tfidf_matrix[1:2]))"
   ]
  },
  {
   "cell_type": "markdown",
   "id": "f9795308-7bd1-48ea-ac4d-9d90ddb6f7f3",
   "metadata": {},
   "source": [
    "- 유클리디안 유사도의 값은 단순히 두 점 사이의 거리를 뜻하기 때문에 값이 상당히 커질 수 있음\n",
    "- 0과 1사이의 값을 갖도록 정규화함\n",
    "- L1정규화 사용(각 벡터 안의 요소 값을 모두 더한 값이 크기가 1이 되도록 조정)"
   ]
  },
  {
   "cell_type": "code",
   "execution_count": 21,
   "id": "3bc60458-f53a-46e5-ae74-4b751795ec2d",
   "metadata": {},
   "outputs": [
    {
     "name": "stdout",
     "output_type": "stream",
     "text": [
      "[[0.20491229]]\n"
     ]
    }
   ],
   "source": [
    "def l1_normalize(v):\n",
    "    norm = np.sum(v)\n",
    "    return v / norm\n",
    "\n",
    "tfidf_norm_l1 = l1_normalize(tfidf_matrix)\n",
    "print(euclidean_distances(tfidf_norm_l1[0:1], tfidf_norm_l1[1:2]))"
   ]
  },
  {
   "cell_type": "markdown",
   "id": "aeb23a39-1b50-4d3e-81f5-449da9be8023",
   "metadata": {},
   "source": [
    "## 4. 맨하탄 유사도\n",
    "- 맨하탄 거리를 통해 유사도를 구하는 방법  \n",
    "- 사각형 격자로 이루어진 지도에서, 출발점에서 도착점까지를 가로지르지 않고 갈 수 있는 최단거리를 구함  \n",
    "- 유클리디안 거리를 L2거리 라고 부르고, 맨하탄 거리를 L1거리 라고 부름  \n",
    "## MaDistance = $\\sum_{i=1}^n {|a_{i} - b_{i}|}$  \n",
    "- 맨하탄 유사도 또한 L1 정규화 방법을 통해 0과 1 사이의 값을 갖도록 조정"
   ]
  },
  {
   "cell_type": "code",
   "execution_count": 22,
   "id": "4c75bca2-9924-4630-9528-b3cdc99cca15",
   "metadata": {},
   "outputs": [
    {
     "name": "stdout",
     "output_type": "stream",
     "text": [
      "[[0.77865927]]\n"
     ]
    }
   ],
   "source": [
    "from sklearn.metrics.pairwise import manhattan_distances\n",
    "print(manhattan_distances(tfidf_norm_l1[0:1], tfidf_norm_l1[1:2]))"
   ]
  },
  {
   "cell_type": "code",
   "execution_count": null,
   "id": "3b5f1d1a-959e-4bf6-af89-af2869ed0065",
   "metadata": {},
   "outputs": [],
   "source": []
  },
  {
   "cell_type": "code",
   "execution_count": null,
   "id": "73fa50da-1cab-47ba-ae89-d6afa45b5c6d",
   "metadata": {},
   "outputs": [],
   "source": []
  }
 ],
 "metadata": {
  "kernelspec": {
   "display_name": "Python 3 (ipykernel)",
   "language": "python",
   "name": "python3"
  },
  "language_info": {
   "codemirror_mode": {
    "name": "ipython",
    "version": 3
   },
   "file_extension": ".py",
   "mimetype": "text/x-python",
   "name": "python",
   "nbconvert_exporter": "python",
   "pygments_lexer": "ipython3",
   "version": "3.8.11"
  }
 },
 "nbformat": 4,
 "nbformat_minor": 5
}
