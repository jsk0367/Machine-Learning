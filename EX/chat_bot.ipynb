{
 "cells": [
  {
   "cell_type": "code",
   "execution_count": 1,
   "id": "4ddd1617-7320-4008-b866-6be3a3202d25",
   "metadata": {},
   "outputs": [],
   "source": [
    "import telegram"
   ]
  },
  {
   "cell_type": "code",
   "execution_count": 2,
   "id": "1b7b0a6a-0f1c-465f-a6b5-bde9fb375b68",
   "metadata": {},
   "outputs": [],
   "source": [
    "api_key ='2092944214:AAHWahJMC-ult7NzRCiF5g8s8l_7NJ0wh-s'"
   ]
  },
  {
   "cell_type": "code",
   "execution_count": 3,
   "id": "29905ec7-2280-4797-8426-bf2349b028ae",
   "metadata": {},
   "outputs": [],
   "source": [
    "bot = telegram.Bot(token=api_key)"
   ]
  },
  {
   "cell_type": "code",
   "execution_count": 4,
   "id": "0a1d3aa3-0210-4aeb-8e92-3c354291851d",
   "metadata": {},
   "outputs": [],
   "source": [
    "#chat_id = bot.get_updates()[-1].message.chat_id\n",
    "# 브라우저 주소 입력창에 https://api.telegram.org/bot봇Token값/getUpdates 를 입력한다.\n",
    "# 아무 메시지나 입력,봇 token 값을 이용해 들어갔던 api.telegram.org... 의 웹 브라우저 창을 새로 고침하면 다음과 같이 나오는데,\n",
    "# 여기서 \"from\":{\"id\":879500000, 부분의 8795로 시작하는 9자리의 숫자가 나의 Chat Id 가 된다"
   ]
  },
  {
   "cell_type": "code",
   "execution_count": 5,
   "id": "dd7c55a5-9750-47d2-850d-f05ed86f4fa5",
   "metadata": {},
   "outputs": [],
   "source": [
    "chat_id = 2062384990"
   ]
  },
  {
   "cell_type": "code",
   "execution_count": 6,
   "id": "3d7b5187-8bb8-4924-9e72-8489b6b6c940",
   "metadata": {},
   "outputs": [
    {
     "data": {
      "text/plain": [
       "<telegram.message.Message at 0x253c972e240>"
      ]
     },
     "execution_count": 6,
     "metadata": {},
     "output_type": "execute_result"
    }
   ],
   "source": [
    "bot.sendMessage(chat_id=chat_id, text=\"슬기야 안녕?\")"
   ]
  },
  {
   "cell_type": "code",
   "execution_count": 7,
   "id": "381ae759-35d9-4927-b96a-0529c7d3e6c3",
   "metadata": {},
   "outputs": [],
   "source": [
    "from telegram.ext import Updater, MessageHandler, Filters\n",
    "from emoji import emojize"
   ]
  },
  {
   "cell_type": "code",
   "execution_count": 8,
   "id": "f87ff0c8-403f-43a4-a23c-d28aa7a96aae",
   "metadata": {},
   "outputs": [
    {
     "data": {
      "text/plain": [
       "<queue.Queue at 0x253cac37c70>"
      ]
     },
     "execution_count": 8,
     "metadata": {},
     "output_type": "execute_result"
    }
   ],
   "source": [
    "updater = Updater(token='2092944214:AAHWahJMC-ult7NzRCiF5g8s8l_7NJ0wh-s')\n",
    "dispatcher = updater.dispatcher\n",
    "updater.start_polling()"
   ]
  },
  {
   "cell_type": "code",
   "execution_count": 9,
   "id": "ca60f208-fb68-44ae-9d65-71e917df10be",
   "metadata": {},
   "outputs": [
    {
     "name": "stderr",
     "output_type": "stream",
     "text": [
      "No error handlers are registered, logging exception.\n",
      "Traceback (most recent call last):\n",
      "  File \"C:\\Users\\seulki\\anaconda3\\envs\\jupyter_env\\lib\\site-packages\\telegram\\ext\\dispatcher.py\", line 555, in process_update\n",
      "    handler.handle_update(update, self, check, context)\n",
      "  File \"C:\\Users\\seulki\\anaconda3\\envs\\jupyter_env\\lib\\site-packages\\telegram\\ext\\handler.py\", line 198, in handle_update\n",
      "    return self.callback(update, context)\n",
      "  File \"C:\\Users\\seulki\\AppData\\Local\\Temp/ipykernel_7688/1770970712.py\", line 2, in handler\n",
      "    text = update.message.text\n",
      "AttributeError: 'CallbackContext' object has no attribute 'message'\n",
      "No error handlers are registered, logging exception.\n",
      "Traceback (most recent call last):\n",
      "  File \"C:\\Users\\seulki\\anaconda3\\envs\\jupyter_env\\lib\\site-packages\\telegram\\ext\\dispatcher.py\", line 555, in process_update\n",
      "    handler.handle_update(update, self, check, context)\n",
      "  File \"C:\\Users\\seulki\\anaconda3\\envs\\jupyter_env\\lib\\site-packages\\telegram\\ext\\handler.py\", line 198, in handle_update\n",
      "    return self.callback(update, context)\n",
      "  File \"C:\\Users\\seulki\\AppData\\Local\\Temp/ipykernel_7688/1770970712.py\", line 2, in handler\n",
      "    text = update.message.text\n",
      "AttributeError: 'CallbackContext' object has no attribute 'message'\n"
     ]
    }
   ],
   "source": [
    "def handler(bot, update):\n",
    "  text = update.message.text\n",
    "  chat_id = update.message.chat_id\n",
    "  \n",
    "  if '뭐해' in text:\n",
    "    bot.send_message(chat_id=chat_id, text='밥먹는 중')\n",
    "  elif '뭐먹어' in text:\n",
    "    bot.send_message(chat_id=chat_id, text=emojize('갈비:heart_eyes:', use_aliases=True))\n",
    "  elif '몇시에' in text:\n",
    "    bot.send_message(chat_id=chat_id, text='7시에 보자')\n",
    "  elif '사진' in text:\n",
    "    bot.send_photo(chat_id=chat_id, photo=open('img/연파랑_UHD.jpg', 'rb'))\n",
    "  else:\n",
    "    bot.send_message(chat_id=chat_id, text='몰라')\n",
    "\n",
    "echo_handler = MessageHandler(Filters.text, handler)\n",
    "dispatcher.add_handler(echo_handler)"
   ]
  },
  {
   "cell_type": "code",
   "execution_count": null,
   "id": "83b58cd9-6e5f-4ca3-aa2f-19ee87c731ca",
   "metadata": {},
   "outputs": [],
   "source": [
    "왜 안되는지 모르겟다"
   ]
  }
 ],
 "metadata": {
  "kernelspec": {
   "display_name": "Python 3 (ipykernel)",
   "language": "python",
   "name": "python3"
  },
  "language_info": {
   "codemirror_mode": {
    "name": "ipython",
    "version": 3
   },
   "file_extension": ".py",
   "mimetype": "text/x-python",
   "name": "python",
   "nbconvert_exporter": "python",
   "pygments_lexer": "ipython3",
   "version": "3.9.6"
  }
 },
 "nbformat": 4,
 "nbformat_minor": 5
}
